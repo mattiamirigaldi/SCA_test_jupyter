{
 "cells": [
  {
   "cell_type": "code",
   "execution_count": 1,
   "metadata": {},
   "outputs": [],
   "source": [
    "import numpy as np\n",
    "%matplotlib notebook\n",
    "import matplotlib.pyplot as plt\n",
    "import ipywidgets as widgets\n",
    "import serial\n",
    "import time\n",
    "from picoscope import ps5000a\n",
    "from picosdk.discover import find_all_units\n",
    "import serial.tools.list_ports as port_list\n",
    "import chipwhisperer as cw"
   ]
  },
  {
   "cell_type": "markdown",
   "metadata": {},
   "source": [
    "## Program target with Design_Start soft core and AES firmware ##"
   ]
  },
  {
   "cell_type": "markdown",
   "metadata": {},
   "source": [
    "Convenience functions"
   ]
  },
  {
   "cell_type": "code",
   "execution_count": 2,
   "metadata": {},
   "outputs": [],
   "source": [
    "# some convenience functions:\n",
    "def reset_fpga():\n",
    "    # resets the full CW305 FPGA\n",
    "    ftarget.fpga_write(3, [1])\n",
    "    ftarget.fpga_write(3, [0])\n",
    "\n",
    "def reset_arm_target():\n",
    "    # resets only the Arm DesignStart core within the CW305 FPGA\n",
    "    ftarget.fpga_write(2, [1])\n",
    "    ftarget.fpga_write(2, [0])\n",
    "    \n",
    "def use_fpga_pll():\n",
    "    # The target clock goes through a PLL (MMCM) in the FPGA before getting to the Arm DesignStart core.\n",
    "    # This PLL can clean up the clock and filter glitches.\n",
    "    ftarget.fpga_write(1, [1])\n",
    "\n",
    "def bypass_fpga_pll():\n",
    "    # The target clock is connected directly to the Arm DesignStart core, bypassing the PLL.\n",
    "    # This can make clock glitching more effective.\n",
    "    ftarget.fpga_write(1, [0])\n",
    "\n",
    "def reset_flush():\n",
    "    reset_arm_target(ftarget)\n",
    "    ftarget.flush()"
   ]
  },
  {
   "cell_type": "markdown",
   "metadata": {},
   "source": [
    "Load bitstream to FPGA"
   ]
  },
  {
   "cell_type": "code",
   "execution_count": 3,
   "metadata": {},
   "outputs": [
    {
     "name": "stdout",
     "output_type": "stream",
     "text": [
      "True\n",
      "0/0/2000, 00:00\n"
     ]
    }
   ],
   "source": [
    "bitstream = r\"../../pv_CW305_DesingStart/hardware/pv_CW305_DesignStart/pv_CW305_DesignStart.bit\"\n",
    "ftarget = cw.target(None, cw.targets.CW305)\n",
    "print(ftarget.is_programmed())\n",
    "reset_fpga()\n",
    "reset_arm_target()\n",
    "print(ftarget.get_fpga_buildtime())\n"
   ]
  },
  {
   "cell_type": "markdown",
   "metadata": {},
   "source": [
    "## Setup target platform ##"
   ]
  },
  {
   "cell_type": "code",
   "execution_count": 4,
   "metadata": {},
   "outputs": [],
   "source": [
    "# set clock:\n",
    "ftarget.vccint_set(1.0)\n",
    "# we only need PLL1:\n",
    "ftarget.pll.pll_enable_set(True)            # enable PLL chip\n",
    "ftarget.pll.pll_outenable_set(False, 0)     # disable PLL 0\n",
    "ftarget.pll.pll_outenable_set(True, 1)      # enable PLL 1 \n",
    "ftarget.pll.pll_outenable_set(False, 2)     # disable PLL 2\n",
    "\n",
    "# run at 20 MHz:\n",
    "ftarget.pll.pll_outfreq_set(20E6, 1)\n",
    "ftarget = cw.target(None, cw.targets.CW305, bsfile=bitstream, force=True)"
   ]
  },
  {
   "cell_type": "markdown",
   "metadata": {},
   "source": [
    "##  Setup picoscope ##"
   ]
  },
  {
   "cell_type": "code",
   "execution_count": 5,
   "metadata": {},
   "outputs": [
    {
     "name": "stdout",
     "output_type": "stream",
     "text": [
      "Working with:\n",
      "UnitInfo(driver=<picosdk.ps5000a.Ps5000alib object at 0x7f6bc344b310>, variant=b'5244D', serial=b'KU687/0175')\n",
      "/dev/ttyS4 - n/a\n",
      "\n",
      "Nsamples :  1612\n",
      "Sampling interval = 3.224000 us\n"
     ]
    }
   ],
   "source": [
    "scopes = find_all_units()\n",
    "for scope in scopes:\n",
    "    print(\"Working with:\")\n",
    "    print(scope.info)\n",
    "    scope.close()\n",
    "ports = list(port_list.comports())\n",
    "for p in ports:\n",
    "    print (p)\n",
    "\n",
    "ps = ps5000a.PS5000a()\n",
    "\n",
    "# Since target runnning at 20 MHz then AES requires from trigger 3.225 uS\n",
    "obs_duration = 3.225E-6\n",
    "# Sample at least 1260 points within that window\n",
    "sampling_interval = obs_duration / 1260\n",
    "# Configure timebase\n",
    "(actualSamplingInterval, nSamples, maxSamples) = ps.setSamplingInterval(sampling_interval, obs_duration)\n",
    "print(\"\\nNsamples : \", nSamples)\n",
    "print(\"Sampling interval = %f us\" % (actualSamplingInterval*nSamples*1E6))\n",
    "\n",
    "# 50mV range on channel A, AC coupled, 20 MHz BW limit\n",
    "ps.setChannel('A', 'AC', 0.05, 0.0, enabled=True, BWLimited=True)\n",
    "# Channel B is trigger\n",
    "ps.setChannel('B', 'DC', 10.0, 0.0, enabled=True)\n",
    "ps.setSimpleTrigger('B', 2.0, 'Rising', timeout_ms=2000, enabled=True)"
   ]
  },
  {
   "cell_type": "markdown",
   "metadata": {},
   "source": [
    "## Run capture  ##"
   ]
  },
  {
   "cell_type": "code",
   "execution_count": 6,
   "metadata": {},
   "outputs": [],
   "source": [
    "# capture functions\n",
    "def pico_capture():\n",
    "    # Arm the picoscope\n",
    "    ps.runBlock()\n",
    "    time.sleep(0.05)\n",
    "    # Trigger the encryption on Target\n",
    "    ftarget.fpga_write(ftarget.REG_USER_LED, [0x01])\n",
    "    ftarget.usb_trigger_toggle()\n",
    "    ps.waitReady()\n",
    "    # Capture the trace \n",
    "    data = ps.getDataV('A', nSamples, returnOverflow=False)\n",
    "    return data\n"
   ]
  },
  {
   "cell_type": "markdown",
   "metadata": {},
   "source": [
    "Capture loop"
   ]
  },
  {
   "cell_type": "code",
   "execution_count": 7,
   "metadata": {},
   "outputs": [
    {
     "name": "stdout",
     "output_type": "stream",
     "text": [
      "Key:  ['0x2b', '0x7e', '0x15', '0x16', '0x28', '0xae', '0xd2', '0xa6', '0xab', '0xf7', '0x15', '0x88', '0x9', '0xcf', '0x4f', '0x3c']\n",
      "Plaintext:  ['0xf7', '0xd8', '0xa7', '0x86', '0xcb', '0x82', '0x45', '0x71', '0x4b', '0xc7', '0xba', '0xa0', '0x8a', '0x72', '0x9e', '0xb6']\n",
      "\n",
      "Value in REG_CRYPT_KEY:  ['0x0', '0x0', '0x0', '0x0', '0x0', '0x0', '0x0', '0x0', '0x0', '0x0', '0x0', '0x0', '0x0', '0x0', '0x0', '0x0']\n",
      "Value in REG_CRYPT_TEXTIN:  ['0x0', '0x0', '0x0', '0x0', '0x0', '0x0', '0x0', '0x0', '0x0', '0x0', '0x0', '0x0', '0x0', '0x0', '0x0', '0x0']\n",
      "\n",
      "Ciphertext:  ['0x0', '0x0', '0x0', '0x0', '0x0', '0x0', '0x0', '0x0', '0x0', '0x0', '0x0', '0x0', '0x0', '0x0', '0x0', '0x0']\n",
      "Expected :  ['0x1b', '0x51', '0x24', '0x11', '0x71', '0x46', '0x4b', '0x5b', '0xbb', '0x44', '0xd7', '0x7d', '0x9', '0x2b', '0x2e', '0x1a']\n",
      "\n",
      "REG_CRYPT_CIPHEROUT:  ['0x0', '0x0', '0x0', '0x0', '0x0', '0x0', '0x0', '0x0', '0x0', '0x0', '0x0', '0x0', '0x0', '0x0', '0x0', '0x0']\n",
      "REG_CRYPT_TEXTIN:  ['0x0', '0x0', '0x0', '0x0', '0x0', '0x0', '0x0', '0x0', '0x0', '0x0', '0x0', '0x0', '0x0', '0x0', '0x0', '0x0']\n",
      "REG_CRYPT_KEY:  ['0x0', '0x0', '0x0', '0x0', '0x0', '0x0', '0x0', '0x0', '0x0', '0x0', '0x0', '0x0', '0x0', '0x0', '0x0', '0x0']\n"
     ]
    }
   ],
   "source": [
    "from Crypto.Cipher import AES\n",
    "from chipwhisperer.common.traces import Trace\n",
    "\n",
    "reset_arm_target()\n",
    "ktp = cw.ktp.Basic()\n",
    "# Initialize cipher to verify DUT result:\n",
    "key, plaintext = ktp.next()\n",
    "cipher = AES.new(bytes(key), AES.MODE_ECB)\n",
    "print(\"Key: \", [hex(el) for el in key])\n",
    "print(\"Plaintext: \", [hex(el) for el in plaintext])\n",
    "\n",
    "output_len = 16\n",
    "\n",
    "# Dummy capture call due to bug of using AC coupling\n",
    "pico_capture()\n",
    "\n",
    "# Load key\n",
    "ftarget.simpleserial_write('k', key)\n",
    "# Check if the value has been written correctly \n",
    "key_written = ftarget.fpga_read(ftarget.REG_CRYPT_KEY, output_len)\n",
    "print(\"\\nValue in REG_CRYPT_KEY: \", [hex(el) for el in key_written])\n",
    "\n",
    "# Load plaintext\n",
    "ftarget.simpleserial_write('p', plaintext)\n",
    "# Check if the value has been written correctly\n",
    "text_written = ftarget.fpga_read(ftarget.REG_CRYPT_TEXTIN, output_len)\n",
    "print(\"Value in REG_CRYPT_TEXTIN: \", [hex(el) for el in text_written])\n",
    "\n",
    "# Launch capture\n",
    "wave = pico_capture()\n",
    "\n",
    "# Read response\n",
    "response = ftarget.simpleserial_read('r', output_len, ack=True)\n",
    "print(\"\\nCiphertext: \", [hex(el) for el in response])\n",
    "print(\"Expected : \", [hex(el) for el in cipher.encrypt(bytes(plaintext))])\n",
    "\n",
    "# Values read from registers\n",
    "print(\"\\nREG_CRYPT_CIPHEROUT: \", [hex(el) for el in response])\n",
    "print(\"REG_CRYPT_TEXTIN: \", [hex(el) for el in text_written])\n",
    "print(\"REG_CRYPT_KEY: \", [hex(el) for el in key_written])\n",
    "\n",
    "# Disconnect for all devices\n",
    "#ftarget.dis()\n",
    "\n",
    "#assert (list(response) == list(cipher.encrypt(bytes(plaintext)))), \"Incorrect encryption result!\\nGot {}\\nExp {}\\n\".format(list(response), list(plaintext))\n",
    "    "
   ]
  },
  {
   "cell_type": "markdown",
   "metadata": {},
   "source": [
    "Plotting trace"
   ]
  },
  {
   "cell_type": "code",
   "execution_count": 8,
   "metadata": {},
   "outputs": [
    {
     "data": {
      "text/html": [
       "<div class=\"bk-root\">\n",
       "        <a href=\"https://bokeh.org\" target=\"_blank\" class=\"bk-logo bk-logo-small bk-logo-notebook\"></a>\n",
       "        <span id=\"1002\">Loading BokehJS ...</span>\n",
       "    </div>\n"
      ]
     },
     "metadata": {},
     "output_type": "display_data"
    },
    {
     "data": {
      "application/javascript": "(function(root) {\n  function now() {\n    return new Date();\n  }\n\n  const force = true;\n\n  if (typeof root._bokeh_onload_callbacks === \"undefined\" || force === true) {\n    root._bokeh_onload_callbacks = [];\n    root._bokeh_is_loading = undefined;\n  }\n\nconst JS_MIME_TYPE = 'application/javascript';\n  const HTML_MIME_TYPE = 'text/html';\n  const EXEC_MIME_TYPE = 'application/vnd.bokehjs_exec.v0+json';\n  const CLASS_NAME = 'output_bokeh rendered_html';\n\n  /**\n   * Render data to the DOM node\n   */\n  function render(props, node) {\n    const script = document.createElement(\"script\");\n    node.appendChild(script);\n  }\n\n  /**\n   * Handle when an output is cleared or removed\n   */\n  function handleClearOutput(event, handle) {\n    const cell = handle.cell;\n\n    const id = cell.output_area._bokeh_element_id;\n    const server_id = cell.output_area._bokeh_server_id;\n    // Clean up Bokeh references\n    if (id != null && id in Bokeh.index) {\n      Bokeh.index[id].model.document.clear();\n      delete Bokeh.index[id];\n    }\n\n    if (server_id !== undefined) {\n      // Clean up Bokeh references\n      const cmd_clean = \"from bokeh.io.state import curstate; print(curstate().uuid_to_server['\" + server_id + \"'].get_sessions()[0].document.roots[0]._id)\";\n      cell.notebook.kernel.execute(cmd_clean, {\n        iopub: {\n          output: function(msg) {\n            const id = msg.content.text.trim();\n            if (id in Bokeh.index) {\n              Bokeh.index[id].model.document.clear();\n              delete Bokeh.index[id];\n            }\n          }\n        }\n      });\n      // Destroy server and session\n      const cmd_destroy = \"import bokeh.io.notebook as ion; ion.destroy_server('\" + server_id + \"')\";\n      cell.notebook.kernel.execute(cmd_destroy);\n    }\n  }\n\n  /**\n   * Handle when a new output is added\n   */\n  function handleAddOutput(event, handle) {\n    const output_area = handle.output_area;\n    const output = handle.output;\n\n    // limit handleAddOutput to display_data with EXEC_MIME_TYPE content only\n    if ((output.output_type != \"display_data\") || (!Object.prototype.hasOwnProperty.call(output.data, EXEC_MIME_TYPE))) {\n      return\n    }\n\n    const toinsert = output_area.element.find(\".\" + CLASS_NAME.split(' ')[0]);\n\n    if (output.metadata[EXEC_MIME_TYPE][\"id\"] !== undefined) {\n      toinsert[toinsert.length - 1].firstChild.textContent = output.data[JS_MIME_TYPE];\n      // store reference to embed id on output_area\n      output_area._bokeh_element_id = output.metadata[EXEC_MIME_TYPE][\"id\"];\n    }\n    if (output.metadata[EXEC_MIME_TYPE][\"server_id\"] !== undefined) {\n      const bk_div = document.createElement(\"div\");\n      bk_div.innerHTML = output.data[HTML_MIME_TYPE];\n      const script_attrs = bk_div.children[0].attributes;\n      for (let i = 0; i < script_attrs.length; i++) {\n        toinsert[toinsert.length - 1].firstChild.setAttribute(script_attrs[i].name, script_attrs[i].value);\n        toinsert[toinsert.length - 1].firstChild.textContent = bk_div.children[0].textContent\n      }\n      // store reference to server id on output_area\n      output_area._bokeh_server_id = output.metadata[EXEC_MIME_TYPE][\"server_id\"];\n    }\n  }\n\n  function register_renderer(events, OutputArea) {\n\n    function append_mime(data, metadata, element) {\n      // create a DOM node to render to\n      const toinsert = this.create_output_subarea(\n        metadata,\n        CLASS_NAME,\n        EXEC_MIME_TYPE\n      );\n      this.keyboard_manager.register_events(toinsert);\n      // Render to node\n      const props = {data: data, metadata: metadata[EXEC_MIME_TYPE]};\n      render(props, toinsert[toinsert.length - 1]);\n      element.append(toinsert);\n      return toinsert\n    }\n\n    /* Handle when an output is cleared or removed */\n    events.on('clear_output.CodeCell', handleClearOutput);\n    events.on('delete.Cell', handleClearOutput);\n\n    /* Handle when a new output is added */\n    events.on('output_added.OutputArea', handleAddOutput);\n\n    /**\n     * Register the mime type and append_mime function with output_area\n     */\n    OutputArea.prototype.register_mime_type(EXEC_MIME_TYPE, append_mime, {\n      /* Is output safe? */\n      safe: true,\n      /* Index of renderer in `output_area.display_order` */\n      index: 0\n    });\n  }\n\n  // register the mime type if in Jupyter Notebook environment and previously unregistered\n  if (root.Jupyter !== undefined) {\n    const events = require('base/js/events');\n    const OutputArea = require('notebook/js/outputarea').OutputArea;\n\n    if (OutputArea.prototype.mime_types().indexOf(EXEC_MIME_TYPE) == -1) {\n      register_renderer(events, OutputArea);\n    }\n  }\n  if (typeof (root._bokeh_timeout) === \"undefined\" || force === true) {\n    root._bokeh_timeout = Date.now() + 5000;\n    root._bokeh_failed_load = false;\n  }\n\n  const NB_LOAD_WARNING = {'data': {'text/html':\n     \"<div style='background-color: #fdd'>\\n\"+\n     \"<p>\\n\"+\n     \"BokehJS does not appear to have successfully loaded. If loading BokehJS from CDN, this \\n\"+\n     \"may be due to a slow or bad network connection. Possible fixes:\\n\"+\n     \"</p>\\n\"+\n     \"<ul>\\n\"+\n     \"<li>re-rerun `output_notebook()` to attempt to load from CDN again, or</li>\\n\"+\n     \"<li>use INLINE resources instead, as so:</li>\\n\"+\n     \"</ul>\\n\"+\n     \"<code>\\n\"+\n     \"from bokeh.resources import INLINE\\n\"+\n     \"output_notebook(resources=INLINE)\\n\"+\n     \"</code>\\n\"+\n     \"</div>\"}};\n\n  function display_loaded() {\n    const el = document.getElementById(\"1002\");\n    if (el != null) {\n      el.textContent = \"BokehJS is loading...\";\n    }\n    if (root.Bokeh !== undefined) {\n      if (el != null) {\n        el.textContent = \"BokehJS \" + root.Bokeh.version + \" successfully loaded.\";\n      }\n    } else if (Date.now() < root._bokeh_timeout) {\n      setTimeout(display_loaded, 100)\n    }\n  }\n\n  function run_callbacks() {\n    try {\n      root._bokeh_onload_callbacks.forEach(function(callback) {\n        if (callback != null)\n          callback();\n      });\n    } finally {\n      delete root._bokeh_onload_callbacks\n    }\n    console.debug(\"Bokeh: all callbacks have finished\");\n  }\n\n  function load_libs(css_urls, js_urls, callback) {\n    if (css_urls == null) css_urls = [];\n    if (js_urls == null) js_urls = [];\n\n    root._bokeh_onload_callbacks.push(callback);\n    if (root._bokeh_is_loading > 0) {\n      console.debug(\"Bokeh: BokehJS is being loaded, scheduling callback at\", now());\n      return null;\n    }\n    if (js_urls == null || js_urls.length === 0) {\n      run_callbacks();\n      return null;\n    }\n    console.debug(\"Bokeh: BokehJS not loaded, scheduling load and callback at\", now());\n    root._bokeh_is_loading = css_urls.length + js_urls.length;\n\n    function on_load() {\n      root._bokeh_is_loading--;\n      if (root._bokeh_is_loading === 0) {\n        console.debug(\"Bokeh: all BokehJS libraries/stylesheets loaded\");\n        run_callbacks()\n      }\n    }\n\n    function on_error(url) {\n      console.error(\"failed to load \" + url);\n    }\n\n    for (let i = 0; i < css_urls.length; i++) {\n      const url = css_urls[i];\n      const element = document.createElement(\"link\");\n      element.onload = on_load;\n      element.onerror = on_error.bind(null, url);\n      element.rel = \"stylesheet\";\n      element.type = \"text/css\";\n      element.href = url;\n      console.debug(\"Bokeh: injecting link tag for BokehJS stylesheet: \", url);\n      document.body.appendChild(element);\n    }\n\n    for (let i = 0; i < js_urls.length; i++) {\n      const url = js_urls[i];\n      const element = document.createElement('script');\n      element.onload = on_load;\n      element.onerror = on_error.bind(null, url);\n      element.async = false;\n      element.src = url;\n      console.debug(\"Bokeh: injecting script tag for BokehJS library: \", url);\n      document.head.appendChild(element);\n    }\n  };\n\n  function inject_raw_css(css) {\n    const element = document.createElement(\"style\");\n    element.appendChild(document.createTextNode(css));\n    document.body.appendChild(element);\n  }\n\n  const js_urls = [\"https://cdn.bokeh.org/bokeh/release/bokeh-2.4.3.min.js\", \"https://cdn.bokeh.org/bokeh/release/bokeh-gl-2.4.3.min.js\", \"https://cdn.bokeh.org/bokeh/release/bokeh-widgets-2.4.3.min.js\", \"https://cdn.bokeh.org/bokeh/release/bokeh-tables-2.4.3.min.js\", \"https://cdn.bokeh.org/bokeh/release/bokeh-mathjax-2.4.3.min.js\"];\n  const css_urls = [];\n\n  const inline_js = [    function(Bokeh) {\n      Bokeh.set_log_level(\"info\");\n    },\nfunction(Bokeh) {\n    }\n  ];\n\n  function run_inline_js() {\n    if (root.Bokeh !== undefined || force === true) {\n          for (let i = 0; i < inline_js.length; i++) {\n      inline_js[i].call(root, root.Bokeh);\n    }\nif (force === true) {\n        display_loaded();\n      }} else if (Date.now() < root._bokeh_timeout) {\n      setTimeout(run_inline_js, 100);\n    } else if (!root._bokeh_failed_load) {\n      console.log(\"Bokeh: BokehJS failed to load within specified timeout.\");\n      root._bokeh_failed_load = true;\n    } else if (force !== true) {\n      const cell = $(document.getElementById(\"1002\")).parents('.cell').data().cell;\n      cell.output_area.append_execute_result(NB_LOAD_WARNING)\n    }\n  }\n\n  if (root._bokeh_is_loading === 0) {\n    console.debug(\"Bokeh: BokehJS loaded, going straight to plotting\");\n    run_inline_js();\n  } else {\n    load_libs(css_urls, js_urls, function() {\n      console.debug(\"Bokeh: BokehJS plotting callback run at\", now());\n      run_inline_js();\n    });\n  }\n}(window));",
      "application/vnd.bokehjs_load.v0+json": ""
     },
     "metadata": {},
     "output_type": "display_data"
    },
    {
     "data": {
      "text/html": [
       "\n",
       "  <div class=\"bk-root\" id=\"81c017fb-4dcb-42b0-aa16-57b1ccde16ff\" data-root-id=\"1003\"></div>\n"
      ]
     },
     "metadata": {},
     "output_type": "display_data"
    },
    {
     "data": {
      "application/javascript": "(function(root) {\n  function embed_document(root) {\n  const docs_json = {\"4c3839f5-412a-4767-96d3-199f744d418a\":{\"defs\":[],\"roots\":{\"references\":[{\"attributes\":{\"below\":[{\"id\":\"1012\"}],\"center\":[{\"id\":\"1015\"},{\"id\":\"1019\"}],\"left\":[{\"id\":\"1016\"}],\"renderers\":[{\"id\":\"1038\"}],\"title\":{\"id\":\"1040\"},\"toolbar\":{\"id\":\"1027\"},\"width\":800,\"x_range\":{\"id\":\"1004\"},\"x_scale\":{\"id\":\"1008\"},\"y_range\":{\"id\":\"1006\"},\"y_scale\":{\"id\":\"1010\"}},\"id\":\"1003\",\"subtype\":\"Figure\",\"type\":\"Plot\"},{\"attributes\":{},\"id\":\"1043\",\"type\":\"BasicTickFormatter\"},{\"attributes\":{},\"id\":\"1044\",\"type\":\"AllLabels\"},{\"attributes\":{\"data\":{\"x\":[0,1,2,3,4,5,6,7,8,9,10,11,12,13,14,15,16,17,18,19,20,21,22,23,24,25,26,27,28,29,30,31,32,33,34,35,36,37,38,39,40,41,42,43,44,45,46,47,48,49,50,51,52,53,54,55,56,57,58,59,60,61,62,63,64,65,66,67,68,69,70,71,72,73,74,75,76,77,78,79,80,81,82,83,84,85,86,87,88,89,90,91,92,93,94,95,96,97,98,99,100,101,102,103,104,105,106,107,108,109,110,111,112,113,114,115,116,117,118,119,120,121,122,123,124,125,126,127,128,129,130,131,132,133,134,135,136,137,138,139,140,141,142,143,144,145,146,147,148,149,150,151,152,153,154,155,156,157,158,159,160,161,162,163,164,165,166,167,168,169,170,171,172,173,174,175,176,177,178,179,180,181,182,183,184,185,186,187,188,189,190,191,192,193,194,195,196,197,198,199,200,201,202,203,204,205,206,207,208,209,210,211,212,213,214,215,216,217,218,219,220,221,222,223,224,225,226,227,228,229,230,231,232,233,234,235,236,237,238,239,240,241,242,243,244,245,246,247,248,249,250,251,252,253,254,255,256,257,258,259,260,261,262,263,264,265,266,267,268,269,270,271,272,273,274,275,276,277,278,279,280,281,282,283,284,285,286,287,288,289,290,291,292,293,294,295,296,297,298,299,300,301,302,303,304,305,306,307,308,309,310,311,312,313,314,315,316,317,318,319,320,321,322,323,324,325,326,327,328,329,330,331,332,333,334,335,336,337,338,339,340,341,342,343,344,345,346,347,348,349,350,351,352,353,354,355,356,357,358,359,360,361,362,363,364,365,366,367,368,369,370,371,372,373,374,375,376,377,378,379,380,381,382,383,384,385,386,387,388,389,390,391,392,393,394,395,396,397,398,399,400,401,402,403,404,405,406,407,408,409,410,411,412,413,414,415,416,417,418,419,420,421,422,423,424,425,426,427,428,429,430,431,432,433,434,435,436,437,438,439,440,441,442,443,444,445,446,447,448,449,450,451,452,453,454,455,456,457,458,459,460,461,462,463,464,465,466,467,468,469,470,471,472,473,474,475,476,477,478,479,480,481,482,483,484,485,486,487,488,489,490,491,492,493,494,495,496,497,498,499,500,501,502,503,504,505,506,507,508,509,510,511,512,513,514,515,516,517,518,519,520,521,522,523,524,525,526,527,528,529,530,531,532,533,534,535,536,537,538,539,540,541,542,543,544,545,546,547,548,549,550,551,552,553,554,555,556,557,558,559,560,561,562,563,564,565,566,567,568,569,570,571,572,573,574,575,576,577,578,579,580,581,582,583,584,585,586,587,588,589,590,591,592,593,594,595,596,597,598,599,600,601,602,603,604,605,606,607,608,609,610,611,612,613,614,615,616,617,618,619,620,621,622,623,624,625,626,627,628,629,630,631,632,633,634,635,636,637,638,639,640,641,642,643,644,645,646,647,648,649,650,651,652,653,654,655,656,657,658,659,660,661,662,663,664,665,666,667,668,669,670,671,672,673,674,675,676,677,678,679,680,681,682,683,684,685,686,687,688,689,690,691,692,693,694,695,696,697,698,699,700,701,702,703,704,705,706,707,708,709,710,711,712,713,714,715,716,717,718,719,720,721,722,723,724,725,726,727,728,729,730,731,732,733,734,735,736,737,738,739,740,741,742,743,744,745,746,747,748,749,750,751,752,753,754,755,756,757,758,759,760,761,762,763,764,765,766,767,768,769,770,771,772,773,774,775,776,777,778,779,780,781,782,783,784,785,786,787,788,789,790,791,792,793,794,795,796,797,798,799,800,801,802,803,804,805,806,807,808,809,810,811,812,813,814,815,816,817,818,819,820,821,822,823,824,825,826,827,828,829,830,831,832,833,834,835,836,837,838,839,840,841,842,843,844,845,846,847,848,849,850,851,852,853,854,855,856,857,858,859,860,861,862,863,864,865,866,867,868,869,870,871,872,873,874,875,876,877,878,879,880,881,882,883,884,885,886,887,888,889,890,891,892,893,894,895,896,897,898,899,900,901,902,903,904,905,906,907,908,909,910,911,912,913,914,915,916,917,918,919,920,921,922,923,924,925,926,927,928,929,930,931,932,933,934,935,936,937,938,939,940,941,942,943,944,945,946,947,948,949,950,951,952,953,954,955,956,957,958,959,960,961,962,963,964,965,966,967,968,969,970,971,972,973,974,975,976,977,978,979,980,981,982,983,984,985,986,987,988,989,990,991,992,993,994,995,996,997,998,999,1000,1001,1002,1003,1004,1005,1006,1007,1008,1009,1010,1011,1012,1013,1014,1015,1016,1017,1018,1019,1020,1021,1022,1023,1024,1025,1026,1027,1028,1029,1030,1031,1032,1033,1034,1035,1036,1037,1038,1039,1040,1041,1042,1043,1044,1045,1046,1047,1048,1049,1050,1051,1052,1053,1054,1055,1056,1057,1058,1059,1060,1061,1062,1063,1064,1065,1066,1067,1068,1069,1070,1071,1072,1073,1074,1075,1076,1077,1078,1079,1080,1081,1082,1083,1084,1085,1086,1087,1088,1089,1090,1091,1092,1093,1094,1095,1096,1097,1098,1099,1100,1101,1102,1103,1104,1105,1106,1107,1108,1109,1110,1111,1112,1113,1114,1115,1116,1117,1118,1119,1120,1121,1122,1123,1124,1125,1126,1127,1128,1129,1130,1131,1132,1133,1134,1135,1136,1137,1138,1139,1140,1141,1142,1143,1144,1145,1146,1147,1148,1149,1150,1151,1152,1153,1154,1155,1156,1157,1158,1159,1160,1161,1162,1163,1164,1165,1166,1167,1168,1169,1170,1171,1172,1173,1174,1175,1176,1177,1178,1179,1180,1181,1182,1183,1184,1185,1186,1187,1188,1189,1190,1191,1192,1193,1194,1195,1196,1197,1198,1199,1200,1201,1202,1203,1204,1205,1206,1207,1208,1209,1210,1211,1212,1213,1214,1215,1216,1217,1218,1219,1220,1221,1222,1223,1224,1225,1226,1227,1228,1229,1230,1231,1232,1233,1234,1235,1236,1237,1238,1239,1240,1241,1242,1243,1244,1245,1246,1247,1248,1249,1250,1251,1252,1253,1254,1255,1256,1257,1258,1259,1260,1261,1262,1263,1264,1265,1266,1267,1268,1269,1270,1271,1272,1273,1274,1275,1276,1277,1278,1279,1280,1281,1282,1283,1284,1285,1286,1287,1288,1289,1290,1291,1292,1293,1294,1295,1296,1297,1298,1299,1300,1301,1302,1303,1304,1305,1306,1307,1308,1309,1310,1311,1312,1313,1314,1315,1316,1317,1318,1319,1320,1321,1322,1323,1324,1325,1326,1327,1328,1329,1330,1331,1332,1333,1334,1335,1336,1337,1338,1339,1340,1341,1342,1343,1344,1345,1346,1347,1348,1349,1350,1351,1352,1353,1354,1355,1356,1357,1358,1359,1360,1361,1362,1363,1364,1365,1366,1367,1368,1369,1370,1371,1372,1373,1374,1375,1376,1377,1378,1379,1380,1381,1382,1383,1384,1385,1386,1387,1388,1389,1390,1391,1392,1393,1394,1395,1396,1397,1398,1399,1400,1401,1402,1403,1404,1405,1406,1407,1408,1409,1410,1411,1412,1413,1414,1415,1416,1417,1418,1419,1420,1421,1422,1423,1424,1425,1426,1427,1428,1429,1430,1431,1432,1433,1434,1435,1436,1437,1438,1439,1440,1441,1442,1443,1444,1445,1446,1447,1448,1449,1450,1451,1452,1453,1454,1455,1456,1457,1458,1459,1460,1461,1462,1463,1464,1465,1466,1467,1468,1469,1470,1471,1472,1473,1474,1475,1476,1477,1478,1479,1480,1481,1482,1483,1484,1485,1486,1487,1488,1489,1490,1491,1492,1493,1494,1495,1496,1497,1498,1499,1500,1501,1502,1503,1504,1505,1506,1507,1508,1509,1510,1511,1512,1513,1514,1515,1516,1517,1518,1519,1520,1521,1522,1523,1524,1525,1526,1527,1528,1529,1530,1531,1532,1533,1534,1535,1536,1537,1538,1539,1540,1541,1542,1543,1544,1545,1546,1547,1548,1549,1550,1551,1552,1553,1554,1555,1556,1557,1558,1559,1560,1561,1562,1563,1564,1565,1566,1567,1568,1569,1570,1571,1572,1573,1574,1575,1576,1577,1578,1579,1580,1581,1582,1583,1584,1585,1586,1587,1588,1589,1590,1591,1592,1593,1594,1595,1596,1597,1598,1599,1600,1601,1602,1603,1604,1605,1606,1607,1608,1609,1610,1611],\"y\":{\"__ndarray__\":\"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\",\"dtype\":\"float64\",\"order\":\"little\",\"shape\":[1612]}},\"selected\":{\"id\":\"1049\"},\"selection_policy\":{\"id\":\"1048\"}},\"id\":\"1034\",\"type\":\"ColumnDataSource\"},{\"attributes\":{\"bottom_units\":\"screen\",\"coordinates\":null,\"fill_alpha\":0.5,\"fill_color\":\"lightgrey\",\"group\":null,\"left_units\":\"screen\",\"level\":\"overlay\",\"line_alpha\":1.0,\"line_color\":\"black\",\"line_dash\":[4,4],\"line_width\":2,\"right_units\":\"screen\",\"syncable\":false,\"top_units\":\"screen\"},\"id\":\"1026\",\"type\":\"BoxAnnotation\"},{\"attributes\":{},\"id\":\"1006\",\"type\":\"DataRange1d\"},{\"attributes\":{\"axis\":{\"id\":\"1012\"},\"coordinates\":null,\"group\":null,\"ticker\":null},\"id\":\"1015\",\"type\":\"Grid\"},{\"attributes\":{\"line_alpha\":0.2,\"line_color\":\"red\",\"x\":{\"field\":\"x\"},\"y\":{\"field\":\"y\"}},\"id\":\"1037\",\"type\":\"Line\"},{\"attributes\":{},\"id\":\"1046\",\"type\":\"BasicTickFormatter\"},{\"attributes\":{},\"id\":\"1047\",\"type\":\"AllLabels\"},{\"attributes\":{\"tools\":[{\"id\":\"1020\"},{\"id\":\"1021\"},{\"id\":\"1022\"},{\"id\":\"1023\"},{\"id\":\"1024\"},{\"id\":\"1025\"}]},\"id\":\"1027\",\"type\":\"Toolbar\"},{\"attributes\":{\"axis\":{\"id\":\"1016\"},\"coordinates\":null,\"dimension\":1,\"group\":null,\"ticker\":null},\"id\":\"1019\",\"type\":\"Grid\"},{\"attributes\":{\"coordinates\":null,\"formatter\":{\"id\":\"1043\"},\"group\":null,\"major_label_policy\":{\"id\":\"1044\"},\"ticker\":{\"id\":\"1017\"}},\"id\":\"1016\",\"type\":\"LinearAxis\"},{\"attributes\":{\"source\":{\"id\":\"1034\"}},\"id\":\"1039\",\"type\":\"CDSView\"},{\"attributes\":{},\"id\":\"1017\",\"type\":\"BasicTicker\"},{\"attributes\":{\"line_alpha\":0.1,\"line_color\":\"red\",\"x\":{\"field\":\"x\"},\"y\":{\"field\":\"y\"}},\"id\":\"1036\",\"type\":\"Line\"},{\"attributes\":{\"line_color\":\"red\",\"x\":{\"field\":\"x\"},\"y\":{\"field\":\"y\"}},\"id\":\"1035\",\"type\":\"Line\"},{\"attributes\":{},\"id\":\"1049\",\"type\":\"Selection\"},{\"attributes\":{},\"id\":\"1021\",\"type\":\"WheelZoomTool\"},{\"attributes\":{},\"id\":\"1020\",\"type\":\"PanTool\"},{\"attributes\":{\"overlay\":{\"id\":\"1026\"}},\"id\":\"1022\",\"type\":\"BoxZoomTool\"},{\"attributes\":{\"coordinates\":null,\"group\":null},\"id\":\"1040\",\"type\":\"Title\"},{\"attributes\":{},\"id\":\"1023\",\"type\":\"SaveTool\"},{\"attributes\":{\"coordinates\":null,\"data_source\":{\"id\":\"1034\"},\"glyph\":{\"id\":\"1035\"},\"group\":null,\"hover_glyph\":null,\"muted_glyph\":{\"id\":\"1037\"},\"nonselection_glyph\":{\"id\":\"1036\"},\"view\":{\"id\":\"1039\"}},\"id\":\"1038\",\"type\":\"GlyphRenderer\"},{\"attributes\":{},\"id\":\"1024\",\"type\":\"ResetTool\"},{\"attributes\":{},\"id\":\"1008\",\"type\":\"LinearScale\"},{\"attributes\":{},\"id\":\"1048\",\"type\":\"UnionRenderers\"},{\"attributes\":{},\"id\":\"1013\",\"type\":\"BasicTicker\"},{\"attributes\":{\"coordinates\":null,\"formatter\":{\"id\":\"1046\"},\"group\":null,\"major_label_policy\":{\"id\":\"1047\"},\"ticker\":{\"id\":\"1013\"}},\"id\":\"1012\",\"type\":\"LinearAxis\"},{\"attributes\":{},\"id\":\"1010\",\"type\":\"LinearScale\"},{\"attributes\":{},\"id\":\"1025\",\"type\":\"HelpTool\"},{\"attributes\":{},\"id\":\"1004\",\"type\":\"DataRange1d\"}],\"root_ids\":[\"1003\"]},\"title\":\"Bokeh Application\",\"version\":\"2.4.3\"}};\n  const render_items = [{\"docid\":\"4c3839f5-412a-4767-96d3-199f744d418a\",\"root_ids\":[\"1003\"],\"roots\":{\"1003\":\"81c017fb-4dcb-42b0-aa16-57b1ccde16ff\"}}];\n  root.Bokeh.embed.embed_items_notebook(docs_json, render_items);\n  }\n  if (root.Bokeh !== undefined) {\n    embed_document(root);\n  } else {\n    let attempts = 0;\n    const timer = setInterval(function(root) {\n      if (root.Bokeh !== undefined) {\n        clearInterval(timer);\n        embed_document(root);\n      } else {\n        attempts++;\n        if (attempts > 100) {\n          clearInterval(timer);\n          console.log(\"Bokeh: ERROR: Unable to run BokehJS code because BokehJS library is missing\");\n        }\n      }\n    }, 10, root)\n  }\n})(window);",
      "application/vnd.bokehjs_exec.v0+json": ""
     },
     "metadata": {
      "application/vnd.bokehjs_exec.v0+json": {
       "id": "1003"
      }
     },
     "output_type": "display_data"
    }
   ],
   "source": [
    "from bokeh.plotting import figure, show\n",
    "from bokeh.io import output_notebook\n",
    "from bokeh.models import CrosshairTool\n",
    "\n",
    "output_notebook()\n",
    "p = figure(plot_width=800)\n",
    "\n",
    "xrange = range(len(wave))\n",
    "p.line(xrange, wave, line_color=\"red\")\n",
    "show(p)"
   ]
  }
 ],
 "metadata": {
  "kernelspec": {
   "display_name": "cw",
   "language": "python",
   "name": "python3"
  },
  "language_info": {
   "codemirror_mode": {
    "name": "ipython",
    "version": 3
   },
   "file_extension": ".py",
   "mimetype": "text/x-python",
   "name": "python",
   "nbconvert_exporter": "python",
   "pygments_lexer": "ipython3",
   "version": "3.9.5"
  }
 },
 "nbformat": 4,
 "nbformat_minor": 2
}
