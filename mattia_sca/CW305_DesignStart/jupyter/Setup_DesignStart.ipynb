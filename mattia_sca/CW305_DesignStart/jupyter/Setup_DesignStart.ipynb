{
 "cells": [
  {
   "cell_type": "code",
   "execution_count": 1,
   "metadata": {},
   "outputs": [],
   "source": [
    "import numpy as np\n",
    "%matplotlib notebook\n",
    "import matplotlib.pyplot as plt\n",
    "import ipywidgets as widgets\n",
    "import serial\n",
    "import time\n",
    "from picoscope import ps5000a\n",
    "import picosdk\n",
    "from picosdk.discover import find_all_units\n",
    "import serial.tools.list_ports as port_list\n",
    "import chipwhisperer as cw"
   ]
  },
  {
   "cell_type": "code",
   "execution_count": 2,
   "metadata": {},
   "outputs": [
    {
     "name": "stdout",
     "output_type": "stream",
     "text": [
      "Working with:\n",
      "UnitInfo(driver=<picosdk.ps5000a.Ps5000alib object at 0x7f641784d490>, variant=b'5244D', serial=b'KU687/0175')\n",
      "/dev/ttyS4 - n/a\n"
     ]
    }
   ],
   "source": [
    "scopes = find_all_units()\n",
    "for scope in scopes:\n",
    "    print(\"Working with:\")\n",
    "    print(scope.info)\n",
    "    scope.close()\n",
    "ports = list(port_list.comports())\n",
    "for p in ports:\n",
    "    print (p)\n"
   ]
  },
  {
   "cell_type": "markdown",
   "metadata": {},
   "source": [
    "**PicoScope setup**"
   ]
  },
  {
   "cell_type": "code",
   "execution_count": null,
   "metadata": {},
   "outputs": [],
   "source": [
    "ps = ps5000a.PS5000a()\n",
    "print(\"Found the following picoscope:\")\n",
    "print(ps.getAllUnitInfo())\n",
    "\n",
    "# Since target runnning at 10 MHz and AES requires from trigger\n",
    "obs_duration = 3.225E-6\n",
    "# Sample at least 1260 points within that window\n",
    "sampling_interval = obs_duration / 1260\n",
    "# Configure timebase\n",
    "(actualSamplingInterval, nSamples, maxSamples) = ps.setSamplingInterval(sampling_interval, obs_duration)\n",
    "print(\"Nsamples : \", nSamples)\n",
    "print(\"Sampling interval = %f us\" % (actualSamplingInterval*nSamples*1E6))\n",
    "\n",
    "# 50mV range on channel A, AC coupled, 20 MHz BW limit\n",
    "ps.setChannel('A', 'AC', 0.05, 0.0, enabled=True, BWLimited=True)\n",
    "# Channel B is trigger\n",
    "ps.setChannel('B', 'DC', 10.0, 0.0, enabled=True)\n",
    "ps.setSimpleTrigger('B', 2.0, 'Rising', timeout_ms=2000, enabled=True)"
   ]
  },
  {
   "cell_type": "markdown",
   "metadata": {},
   "source": [
    "The built target looks and feels like an STM32 target, as far as the capture HW is concerned"
   ]
  },
  {
   "cell_type": "code",
   "execution_count": null,
   "metadata": {},
   "outputs": [],
   "source": [
    "TARGET_PLATFORM = 'CW305_100t'\n",
    "fpga_id = '100t'\n",
    "platform = 'cw305'\n",
    "# program target:\n",
    "bitstream = r\"/home/sca.user/Desktop/arm_softcore/AT426-r0p1-00rel0-1/AT426-BU-98000-r0p1-00rel0/hardware/CW305_DesignStart/CW305_DesignStart.bit\"\n",
    "ftarget = cw.target(None, cw.targets.CW305, bsfile=bitstream, force=True)\n",
    "print(ftarget.is_programmed())\n",
    "print(ftarget.get_fpga_buildtime())"
   ]
  },
  {
   "cell_type": "code",
   "execution_count": null,
   "metadata": {},
   "outputs": [],
   "source": [
    "# set clock:\n",
    "ftarget.vccint_set(1.0)\n",
    "# we only need PLL1:\n",
    "ftarget.pll.pll_enable_set(True)            # enable PLL chip\n",
    "ftarget.pll.pll_outenable_set(False, 0)     # disable PLL 0\n",
    "ftarget.pll.pll_outenable_set(True, 1)      # enable PLL 1 \n",
    "ftarget.pll.pll_outenable_set(False, 2)     # disable PLL 2\n",
    "\n",
    "# run at 10 MHz:\n",
    "ftarget.pll.pll_outfreq_set(10E6, 1)"
   ]
  },
  {
   "cell_type": "markdown",
   "metadata": {},
   "source": [
    "**Capture loop**"
   ]
  },
  {
   "cell_type": "code",
   "execution_count": null,
   "metadata": {},
   "outputs": [],
   "source": [
    "def pico_capture():\n",
    "    # Arm the picoscope\n",
    "    ps.runBlock()\n",
    "    time.sleep(0.05)\n",
    "    # Trigger the encryption on Target\n",
    "    target.fpga_write(target.REG_USER_LED, [0x01])\n",
    "    target.usb_trigger_toggle()\n",
    "    ps.waitReady()\n",
    "    # Capture the trace \n",
    "    data = ps.getDataV('A', nSamples, returnOverflow=False)\n",
    "    return data"
   ]
  },
  {
   "cell_type": "markdown",
   "metadata": {},
   "source": [
    "## Convenience functions  ##"
   ]
  },
  {
   "cell_type": "code",
   "execution_count": null,
   "metadata": {},
   "outputs": [],
   "source": [
    "# some convenience functions:\n",
    "def reset_fpga():\n",
    "    # resets the full CW305 FPGA\n",
    "    ftarget.fpga_write(3, [1])\n",
    "    ftarget.fpga_write(3, [0])\n",
    "\n",
    "def reset_arm_target():\n",
    "    # resets only the Arm DesignStart core within the CW305 FPGA\n",
    "    ftarget.fpga_write(2, [1])\n",
    "    ftarget.fpga_write(2, [0])\n",
    "    \n",
    "def use_fpga_pll():\n",
    "    # The target clock goes through a PLL (MMCM) in the FPGA before getting to the Arm DesignStart core.\n",
    "    # This PLL can clean up the clock and filter glitches.\n",
    "    ftarget.fpga_write(1, [1])\n",
    "\n",
    "def bypass_fpga_pll():\n",
    "    # The target clock is connected directly to the Arm DesignStart core, bypassing the PLL.\n",
    "    # This can make clock glitching more effective.\n",
    "    ftarget.fpga_write(1, [0])"
   ]
  }
 ],
 "metadata": {
  "kernelspec": {
   "display_name": "Python 3",
   "language": "python",
   "name": "python3"
  },
  "language_info": {
   "codemirror_mode": {
    "name": "ipython",
    "version": 3
   },
   "file_extension": ".py",
   "mimetype": "text/x-python",
   "name": "python",
   "nbconvert_exporter": "python",
   "pygments_lexer": "ipython3",
   "version": "3.9.5"
  }
 },
 "nbformat": 4,
 "nbformat_minor": 4
}
