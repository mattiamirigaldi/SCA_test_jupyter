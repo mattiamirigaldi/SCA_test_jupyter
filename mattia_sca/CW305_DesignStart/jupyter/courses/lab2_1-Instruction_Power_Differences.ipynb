{
 "cells": [
  {
   "cell_type": "code",
   "execution_count": 1,
   "metadata": {},
   "outputs": [],
   "source": [
    "import numpy as np\n",
    "%matplotlib notebook\n",
    "import matplotlib.pyplot as plt\n",
    "import ipywidgets as widgets\n",
    "import serial\n",
    "import time\n",
    "from picoscope import ps5000a\n",
    "import picosdk\n",
    "from picosdk.discover import find_all_units\n",
    "import serial.tools.list_ports as port_list\n",
    "import chipwhisperer as cw"
   ]
  },
  {
   "cell_type": "markdown",
   "metadata": {},
   "source": [
    "## Program target with Design_Start soft core and AES firmware ##"
   ]
  },
  {
   "cell_type": "code",
   "execution_count": 2,
   "metadata": {},
   "outputs": [
    {
     "name": "stdout",
     "output_type": "stream",
     "text": [
      "True\n",
      "addr 11\n",
      "0/0/2000, 00:00\n"
     ]
    }
   ],
   "source": [
    "#bitstream = r\"/home/sca.user/Desktop/src/vivado/CW305_DesignStart.bit\"\n",
    "bitstream = r\"//home/sca.user/Desktop/src/vivado/CW305_DesignStart/CW305_DesignStart.runs/impl_1/CW305_designstart_top.bit\"\n",
    "\n",
    "ftarget = cw.target(None, cw.targets.CW305, bsfile=bitstream, force=False)\n",
    "print(ftarget.is_programmed())\n",
    "print(ftarget.get_fpga_buildtime())"
   ]
  },
  {
   "cell_type": "markdown",
   "metadata": {},
   "source": [
    "##  Setup picoscope ##"
   ]
  },
  {
   "cell_type": "code",
   "execution_count": null,
   "metadata": {},
   "outputs": [],
   "source": [
    "scopes = find_all_units()\n",
    "for scope in scopes:\n",
    "    print(\"Working with:\")\n",
    "    print(scope.info)\n",
    "    scope.close()\n",
    "ports = list(port_list.comports())\n",
    "for p in ports:\n",
    "    print (p)\n",
    "\n",
    "ps = ps5000a.PS5000a()\n",
    "\n",
    "# Since target runnning at 10 MHz then AES requires from trigger 3.225 uS\n",
    "obs_duration = 3.225E-6\n",
    "# Sample at least 1260 points within that window\n",
    "sampling_interval = obs_duration / 1260\n",
    "# Configure timebase\n",
    "(actualSamplingInterval, nSamples, maxSamples) = ps.setSamplingInterval(sampling_interval, obs_duration)\n",
    "print(\"Nsamples : \", nSamples)\n",
    "print(\"Sampling interval = %f us\" % (actualSamplingInterval*nSamples*1E6))\n",
    "\n",
    "# 50mV range on channel A, AC coupled, 20 MHz BW limit\n",
    "ps.setChannel('A', 'AC', 0.05, 0.0, enabled=True, BWLimited=True)\n",
    "# Channel B is trigger\n",
    "ps.setChannel('B', 'DC', 10.0, 0.0, enabled=True)\n",
    "ps.setSimpleTrigger('B', 2.0, 'Rising', timeout_ms=2000, enabled=True)"
   ]
  },
  {
   "cell_type": "markdown",
   "metadata": {},
   "source": [
    "## Setup target platform ##"
   ]
  },
  {
   "cell_type": "code",
   "execution_count": null,
   "metadata": {},
   "outputs": [],
   "source": [
    "# set clock:\n",
    "ftarget.vccint_set(1.0)\n",
    "# we only need PLL1:\n",
    "ftarget.pll.pll_enable_set(True)            # enable PLL chip\n",
    "ftarget.pll.pll_outenable_set(False, 0)     # disable PLL 0\n",
    "ftarget.pll.pll_outenable_set(True, 1)      # enable PLL 1 \n",
    "ftarget.pll.pll_outenable_set(False, 2)     # disable PLL 2\n",
    "\n",
    "# run at 10 MHz:\n",
    "ftarget.pll.pll_outfreq_set(10E6, 1)"
   ]
  },
  {
   "cell_type": "markdown",
   "metadata": {},
   "source": [
    "## Run capture  ##"
   ]
  },
  {
   "cell_type": "markdown",
   "metadata": {},
   "source": [
    "Convenience functions"
   ]
  },
  {
   "cell_type": "code",
   "execution_count": null,
   "metadata": {},
   "outputs": [],
   "source": [
    "# capture functions\n",
    "def pico_capture():\n",
    "    # Arm the picoscope\n",
    "    ps.runBlock()\n",
    "    time.sleep(0.05)\n",
    "    # Trigger the encryption on Target\n",
    "    ftarget.fpga_write(ftarget.REG_USER_LED, [0x01])\n",
    "    ftarget.usb_trigger_toggle()\n",
    "    ps.waitReady()\n",
    "    # Capture the trace \n",
    "    data = ps.getDataV('A', nSamples, returnOverflow=False)\n",
    "    return data\n",
    "\n",
    "# some convenience functions:\n",
    "def reset_fpga():\n",
    "    # resets the full CW305 FPGA\n",
    "    ftarget.fpga_write(3, [1])\n",
    "    ftarget.fpga_write(3, [0])\n",
    "\n",
    "def reset_arm_target(ftarget):\n",
    "    # resets only the Arm DesignStart core within the CW305 FPGA\n",
    "    ftarget.fpga_write(2, [1])\n",
    "    ftarget.fpga_write(2, [0])\n",
    "    \n",
    "def reset_flush():\n",
    "    reset_arm_target(ftarget)\n",
    "    ftarget.flush()"
   ]
  },
  {
   "cell_type": "markdown",
   "metadata": {},
   "source": [
    "Capture loop"
   ]
  },
  {
   "cell_type": "code",
   "execution_count": null,
   "metadata": {},
   "outputs": [],
   "source": [
    "from Crypto.Cipher import AES\n",
    "from chipwhisperer.common.traces import Trace\n",
    "\n",
    "reset_flush()\n",
    "ktp = cw.ktp.Basic()\n",
    "# Initialize cipher to verify DUT result:\n",
    "key, plaintext = ktp.next()\n",
    "cipher = AES.new(bytes(key), AES.MODE_ECB)\n",
    "print(\"Key: \", [hex(el) for el in key])\n",
    "print(\"Plaintext: \", [hex(el) for el in plaintext])\n",
    "\n",
    "output_len = 16\n",
    "# Dummy capture call due to bug of using AC coupling\n",
    "pico_capture()\n",
    "\n",
    "# endieness of the message already inverted by function \n",
    "ftarget.simpleserial_write('k', key)\n",
    "key_written = ftarget.fpga_read(ftarget.REG_CRYPT_KEY, output_len)\n",
    "print(\"\\nValue in REG_CRYPT_KEY: \", [hex(el) for el in key_written])\n",
    "ftarget.simpleserial_write('p', plaintext)\n",
    "text_written = ftarget.fpga_read(ftarget.REG_CRYPT_TEXTIN, output_len)\n",
    "print(\"Value in REG_CRYPT_TEXTIN: \", [hex(el) for el in text_written])\n",
    "response = ftarget.simpleserial_read('r', output_len, ack=True)\n",
    "print(\"Initial value in REG_CRYPT_CIPHEROUT: \", [hex(el) for el in response])\n",
    "wave = pico_capture()\n",
    "\n",
    "response = ftarget.simpleserial_read('r', output_len, ack=True)\n",
    "print(\"\\nCiphertext: \", [hex(el) for el in response])\n",
    "print(\"Expected : \", [hex(el) for el in cipher.encrypt(bytes(plaintext))])\n",
    "print(\"REG_CRYPT_CIPHEROUT: \", [hex(el) for el in response])\n",
    "print(\"REG_CRYPT_TEXTIN: \", [hex(el) for el in text_written])\n",
    "print(\"REG_CRYPT_KEY: \", [hex(el) for el in key_written])\n",
    "\n",
    "# Disconnect for all devices\n",
    "ftarget.dis()\n",
    "\n",
    "assert (list(response) == list(cipher.encrypt(bytes(plaintext)))), \"Incorrect encryption result!\\nGot {}\\nExp {}\\n\".format(list(response), list(plaintext))\n",
    "    "
   ]
  },
  {
   "cell_type": "markdown",
   "metadata": {},
   "source": [
    "Plotting trace"
   ]
  },
  {
   "cell_type": "code",
   "execution_count": null,
   "metadata": {},
   "outputs": [],
   "source": [
    "from bokeh.plotting import figure, show\n",
    "from bokeh.io import output_notebook\n",
    "from bokeh.models import CrosshairTool\n",
    "\n",
    "output_notebook()\n",
    "p = figure(plot_width=800)\n",
    "\n",
    "xrange = range(len(wave))\n",
    "p.line(xrange, wave, line_color=\"red\")\n",
    "show(p)"
   ]
  }
 ],
 "metadata": {
  "kernelspec": {
   "display_name": "cw",
   "language": "python",
   "name": "python3"
  },
  "language_info": {
   "codemirror_mode": {
    "name": "ipython",
    "version": 3
   },
   "file_extension": ".py",
   "mimetype": "text/x-python",
   "name": "python",
   "nbconvert_exporter": "python",
   "pygments_lexer": "ipython3",
   "version": "3.9.5"
  }
 },
 "nbformat": 4,
 "nbformat_minor": 2
}
