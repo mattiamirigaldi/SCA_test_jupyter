{
 "cells": [
  {
   "cell_type": "code",
   "execution_count": 1,
   "metadata": {},
   "outputs": [
    {
     "name": "stdout",
     "output_type": "stream",
     "text": [
      "Working with:\n",
      "UnitInfo(driver=<picosdk.ps5000a.Ps5000alib object at 0x7f527ca07b80>, variant=b'5244D', serial=b'KU687/0175')\n",
      "/dev/ttyS4 - n/a\n"
     ]
    }
   ],
   "source": [
    "import numpy as np\n",
    "%matplotlib notebook\n",
    "import matplotlib.pyplot as plt\n",
    "import ipywidgets as widgets\n",
    "import serial\n",
    "import time\n",
    "from picoscope import ps5000a\n",
    "import picosdk\n",
    "from picosdk.discover import find_all_units\n",
    "import serial.tools.list_ports as port_list\n",
    "import chipwhisperer as cw\n",
    "\n",
    "# Check if the Picoscope is connected\n",
    "scopes = find_all_units()\n",
    "for scope in scopes:\n",
    "    print(\"Working with:\")\n",
    "    print(scope.info)\n",
    "    scope.close()\n",
    "ports = list(port_list.comports())\n",
    "for p in ports:\n",
    "    print (p)\n"
   ]
  },
  {
   "cell_type": "markdown",
   "metadata": {},
   "source": [
    "**PicoScope setup**"
   ]
  },
  {
   "cell_type": "code",
   "execution_count": 2,
   "metadata": {},
   "outputs": [
    {
     "name": "stdout",
     "output_type": "stream",
     "text": [
      "Found the following picoscope:\n",
      "DriverVersion                 : PS5000A Linux Driver, 2.1.124.5349\n",
      "USBVersion                    : 3.0\n",
      "HardwareVersion               : 1\n",
      "VariantInfo                   : 5244D\n",
      "BatchAndSerial                : KU687/0175\n",
      "CalDate                       : 26Apr23\n",
      "KernelVersion                 : 0.0\n",
      "DigitalHardwareVersion        : 1\n",
      "AnalogueHardwareVersion       : 1\n",
      "PicoFirmwareVersion1          : 1.7.15.0\n",
      "PicoFirmwareVersion2          : 1.2.34.0\n",
      "Nsamples :  1612\n",
      "Sampling interval = 3.224000 us\n"
     ]
    }
   ],
   "source": [
    "ps = ps5000a.PS5000a()\n",
    "print(\"Found the following picoscope:\")\n",
    "print(ps.getAllUnitInfo())\n",
    "\n",
    "# Since target runnning at 10 MHz and AES requires from trigger\n",
    "obs_duration = 3.225E-6\n",
    "# Sample at least 1260 points within that window\n",
    "sampling_interval = obs_duration / 1260\n",
    "# Configure timebase\n",
    "(actualSamplingInterval, nSamples, maxSamples) = ps.setSamplingInterval(sampling_interval, obs_duration)\n",
    "print(\"Nsamples : \", nSamples)\n",
    "print(\"Sampling interval = %f us\" % (actualSamplingInterval*nSamples*1E6))\n",
    "\n",
    "# 50mV range on channel A, AC coupled, 20 MHz BW limit\n",
    "ps.setChannel('A', 'AC', 0.05, 0.0, enabled=True, BWLimited=True)\n",
    "# Channel B is trigger\n",
    "ps.setChannel('B', 'DC', 10.0, 0.0, enabled=True)\n",
    "ps.setSimpleTrigger('B', 2.0, 'Rising', timeout_ms=2000, enabled=True)"
   ]
  },
  {
   "cell_type": "markdown",
   "metadata": {},
   "source": [
    "**CW305 setup**"
   ]
  },
  {
   "cell_type": "code",
   "execution_count": 3,
   "metadata": {},
   "outputs": [
    {
     "name": "stdout",
     "output_type": "stream",
     "text": [
      "True\n"
     ]
    }
   ],
   "source": [
    "TARGET_PLATFORM = 'CW305_100t'\n",
    "fpga_id = '100t'\n",
    "target = cw.target(None, cw.targets.CW305, fpga_id=fpga_id, force = True)\n",
    "\n",
    "print(target.is_programmed())\n",
    "\n",
    "target.vccint_set(1.0)\n",
    "target.pll.pll_enable_set(True)         # enable PLL chip\n",
    "target.pll.pll_outenable_set(False, 0)  # disable PLL 0\n",
    "target.pll.pll_outenable_set(True, 1)   # enable PLL 1\n",
    "target.pll.pll_outenable_set(False, 2)  # disable PLL 2\n",
    "target.pll.pll_outfreq_set(10E6, 1)     # PLL1 frequency set to 10 MHz\n",
    "# 1 ms is plenty idling time --> maybe not useful with picoscope (?) \n",
    "target.clksleeptime = 1 "
   ]
  },
  {
   "cell_type": "markdown",
   "metadata": {},
   "source": [
    "**Capture loop**"
   ]
  },
  {
   "cell_type": "code",
   "execution_count": 4,
   "metadata": {},
   "outputs": [],
   "source": [
    "def pico_capture():\n",
    "    # Arm the picoscope\n",
    "    ps.runBlock()\n",
    "    time.sleep(0.05)\n",
    "    # Trigger the encryption on Target\n",
    "    target.fpga_write(target.REG_USER_LED, [0x01])\n",
    "    target.usb_trigger_toggle()\n",
    "    ps.waitReady()\n",
    "    # Capture the trace \n",
    "    data = ps.getDataV('A', nSamples, returnOverflow=False)\n",
    "    return data"
   ]
  },
  {
   "cell_type": "code",
   "execution_count": 5,
   "metadata": {},
   "outputs": [
    {
     "name": "stdout",
     "output_type": "stream",
     "text": [
      "Key:  CWbytearray(b'2b 7e 15 16 28 ae d2 a6 ab f7 15 88 09 cf 4f 3c')\n"
     ]
    },
    {
     "data": {
      "application/vnd.jupyter.widget-view+json": {
       "model_id": "f14f19a2965e4ce295a01dd5a0d01ea3",
       "version_major": 2,
       "version_minor": 0
      },
      "text/plain": [
       "Capturing traces:   0%|          | 0/2000 [00:00<?, ?it/s]"
      ]
     },
     "metadata": {},
     "output_type": "display_data"
    }
   ],
   "source": [
    "from tqdm.notebook import tnrange\n",
    "project_file = \"sca_test_CW305.cwp\"\n",
    "project = cw.create_project(project_file, overwrite=True)\n",
    "\n",
    "from Crypto.Cipher import AES\n",
    "from chipwhisperer.common.traces import Trace\n",
    "\n",
    "ktp = cw.ktp.Basic()\n",
    "# Initialize cipher to verify DUT result:\n",
    "key, text = ktp.next()\n",
    "cipher = AES.new(bytes(key), AES.MODE_ECB)\n",
    "print(\"Key: \", key)\n",
    "\n",
    "N = 2000        # Number of traces\n",
    "traces = []\n",
    "textin = []\n",
    "keys = []\n",
    "data_mV = []\n",
    "\n",
    "target.fpga_write(target.REG_CRYPT_KEY, key[::-1])\n",
    "\n",
    "# Dummy capture call due to bug of using AC coupling\n",
    "pico_capture()\n",
    "\n",
    "for i in tnrange(N, desc='Capturing traces'):\n",
    "    \n",
    "    # Write plaintext to target\n",
    "    inputtext = text[::-1]\n",
    "    target.fpga_write(target.REG_CRYPT_TEXTIN, inputtext)\n",
    "\n",
    "    # Capture the trace \n",
    "    data = pico_capture()\n",
    "    traces.append(np.array(data))\n",
    "    data_mV.append(np.array(data)*1E3)\n",
    "\n",
    "    # Organize and store data\n",
    "    response = target.fpga_read(target.REG_CRYPT_CIPHEROUT, 16)\n",
    "    response = response[::-1]\n",
    "    trace_i = Trace(np.array(data), text, response, key)\n",
    "    project.traces.append(trace_i)\n",
    "    \n",
    "    # Sanity check with expected ciphertext\n",
    "    #print(\"Response fpga: \",[ hex(el) for el in response])\n",
    "    #print(\"Expected instead: \", [hex(el) for el in cipher.encrypt(bytes(text))])\n",
    "    assert (list(response) == list(cipher.encrypt(bytes(text)))), \"Incorrect encryption result!\\nGot {}\\nExp {}\\n\".format(list(response), list(text))\n",
    "    \n",
    "    key, text = ktp.next() \n",
    "    textin.append(text)\n",
    "    keys.append(key)\n",
    "\n",
    "project.save()\n",
    "project.close()\n",
    "target.dis()"
   ]
  },
  {
   "cell_type": "markdown",
   "metadata": {},
   "source": [
    "**Plotting trace**"
   ]
  },
  {
   "cell_type": "code",
   "execution_count": 6,
   "metadata": {},
   "outputs": [
    {
     "data": {
      "text/html": [
       "<div class=\"bk-root\">\n",
       "        <a href=\"https://bokeh.org\" target=\"_blank\" class=\"bk-logo bk-logo-small bk-logo-notebook\"></a>\n",
       "        <span id=\"1002\">Loading BokehJS ...</span>\n",
       "    </div>\n"
      ]
     },
     "metadata": {},
     "output_type": "display_data"
    },
    {
     "data": {
      "application/javascript": "(function(root) {\n  function now() {\n    return new Date();\n  }\n\n  const force = true;\n\n  if (typeof root._bokeh_onload_callbacks === \"undefined\" || force === true) {\n    root._bokeh_onload_callbacks = [];\n    root._bokeh_is_loading = undefined;\n  }\n\nconst JS_MIME_TYPE = 'application/javascript';\n  const HTML_MIME_TYPE = 'text/html';\n  const EXEC_MIME_TYPE = 'application/vnd.bokehjs_exec.v0+json';\n  const CLASS_NAME = 'output_bokeh rendered_html';\n\n  /**\n   * Render data to the DOM node\n   */\n  function render(props, node) {\n    const script = document.createElement(\"script\");\n    node.appendChild(script);\n  }\n\n  /**\n   * Handle when an output is cleared or removed\n   */\n  function handleClearOutput(event, handle) {\n    const cell = handle.cell;\n\n    const id = cell.output_area._bokeh_element_id;\n    const server_id = cell.output_area._bokeh_server_id;\n    // Clean up Bokeh references\n    if (id != null && id in Bokeh.index) {\n      Bokeh.index[id].model.document.clear();\n      delete Bokeh.index[id];\n    }\n\n    if (server_id !== undefined) {\n      // Clean up Bokeh references\n      const cmd_clean = \"from bokeh.io.state import curstate; print(curstate().uuid_to_server['\" + server_id + \"'].get_sessions()[0].document.roots[0]._id)\";\n      cell.notebook.kernel.execute(cmd_clean, {\n        iopub: {\n          output: function(msg) {\n            const id = msg.content.text.trim();\n            if (id in Bokeh.index) {\n              Bokeh.index[id].model.document.clear();\n              delete Bokeh.index[id];\n            }\n          }\n        }\n      });\n      // Destroy server and session\n      const cmd_destroy = \"import bokeh.io.notebook as ion; ion.destroy_server('\" + server_id + \"')\";\n      cell.notebook.kernel.execute(cmd_destroy);\n    }\n  }\n\n  /**\n   * Handle when a new output is added\n   */\n  function handleAddOutput(event, handle) {\n    const output_area = handle.output_area;\n    const output = handle.output;\n\n    // limit handleAddOutput to display_data with EXEC_MIME_TYPE content only\n    if ((output.output_type != \"display_data\") || (!Object.prototype.hasOwnProperty.call(output.data, EXEC_MIME_TYPE))) {\n      return\n    }\n\n    const toinsert = output_area.element.find(\".\" + CLASS_NAME.split(' ')[0]);\n\n    if (output.metadata[EXEC_MIME_TYPE][\"id\"] !== undefined) {\n      toinsert[toinsert.length - 1].firstChild.textContent = output.data[JS_MIME_TYPE];\n      // store reference to embed id on output_area\n      output_area._bokeh_element_id = output.metadata[EXEC_MIME_TYPE][\"id\"];\n    }\n    if (output.metadata[EXEC_MIME_TYPE][\"server_id\"] !== undefined) {\n      const bk_div = document.createElement(\"div\");\n      bk_div.innerHTML = output.data[HTML_MIME_TYPE];\n      const script_attrs = bk_div.children[0].attributes;\n      for (let i = 0; i < script_attrs.length; i++) {\n        toinsert[toinsert.length - 1].firstChild.setAttribute(script_attrs[i].name, script_attrs[i].value);\n        toinsert[toinsert.length - 1].firstChild.textContent = bk_div.children[0].textContent\n      }\n      // store reference to server id on output_area\n      output_area._bokeh_server_id = output.metadata[EXEC_MIME_TYPE][\"server_id\"];\n    }\n  }\n\n  function register_renderer(events, OutputArea) {\n\n    function append_mime(data, metadata, element) {\n      // create a DOM node to render to\n      const toinsert = this.create_output_subarea(\n        metadata,\n        CLASS_NAME,\n        EXEC_MIME_TYPE\n      );\n      this.keyboard_manager.register_events(toinsert);\n      // Render to node\n      const props = {data: data, metadata: metadata[EXEC_MIME_TYPE]};\n      render(props, toinsert[toinsert.length - 1]);\n      element.append(toinsert);\n      return toinsert\n    }\n\n    /* Handle when an output is cleared or removed */\n    events.on('clear_output.CodeCell', handleClearOutput);\n    events.on('delete.Cell', handleClearOutput);\n\n    /* Handle when a new output is added */\n    events.on('output_added.OutputArea', handleAddOutput);\n\n    /**\n     * Register the mime type and append_mime function with output_area\n     */\n    OutputArea.prototype.register_mime_type(EXEC_MIME_TYPE, append_mime, {\n      /* Is output safe? */\n      safe: true,\n      /* Index of renderer in `output_area.display_order` */\n      index: 0\n    });\n  }\n\n  // register the mime type if in Jupyter Notebook environment and previously unregistered\n  if (root.Jupyter !== undefined) {\n    const events = require('base/js/events');\n    const OutputArea = require('notebook/js/outputarea').OutputArea;\n\n    if (OutputArea.prototype.mime_types().indexOf(EXEC_MIME_TYPE) == -1) {\n      register_renderer(events, OutputArea);\n    }\n  }\n  if (typeof (root._bokeh_timeout) === \"undefined\" || force === true) {\n    root._bokeh_timeout = Date.now() + 5000;\n    root._bokeh_failed_load = false;\n  }\n\n  const NB_LOAD_WARNING = {'data': {'text/html':\n     \"<div style='background-color: #fdd'>\\n\"+\n     \"<p>\\n\"+\n     \"BokehJS does not appear to have successfully loaded. If loading BokehJS from CDN, this \\n\"+\n     \"may be due to a slow or bad network connection. Possible fixes:\\n\"+\n     \"</p>\\n\"+\n     \"<ul>\\n\"+\n     \"<li>re-rerun `output_notebook()` to attempt to load from CDN again, or</li>\\n\"+\n     \"<li>use INLINE resources instead, as so:</li>\\n\"+\n     \"</ul>\\n\"+\n     \"<code>\\n\"+\n     \"from bokeh.resources import INLINE\\n\"+\n     \"output_notebook(resources=INLINE)\\n\"+\n     \"</code>\\n\"+\n     \"</div>\"}};\n\n  function display_loaded() {\n    const el = document.getElementById(\"1002\");\n    if (el != null) {\n      el.textContent = \"BokehJS is loading...\";\n    }\n    if (root.Bokeh !== undefined) {\n      if (el != null) {\n        el.textContent = \"BokehJS \" + root.Bokeh.version + \" successfully loaded.\";\n      }\n    } else if (Date.now() < root._bokeh_timeout) {\n      setTimeout(display_loaded, 100)\n    }\n  }\n\n  function run_callbacks() {\n    try {\n      root._bokeh_onload_callbacks.forEach(function(callback) {\n        if (callback != null)\n          callback();\n      });\n    } finally {\n      delete root._bokeh_onload_callbacks\n    }\n    console.debug(\"Bokeh: all callbacks have finished\");\n  }\n\n  function load_libs(css_urls, js_urls, callback) {\n    if (css_urls == null) css_urls = [];\n    if (js_urls == null) js_urls = [];\n\n    root._bokeh_onload_callbacks.push(callback);\n    if (root._bokeh_is_loading > 0) {\n      console.debug(\"Bokeh: BokehJS is being loaded, scheduling callback at\", now());\n      return null;\n    }\n    if (js_urls == null || js_urls.length === 0) {\n      run_callbacks();\n      return null;\n    }\n    console.debug(\"Bokeh: BokehJS not loaded, scheduling load and callback at\", now());\n    root._bokeh_is_loading = css_urls.length + js_urls.length;\n\n    function on_load() {\n      root._bokeh_is_loading--;\n      if (root._bokeh_is_loading === 0) {\n        console.debug(\"Bokeh: all BokehJS libraries/stylesheets loaded\");\n        run_callbacks()\n      }\n    }\n\n    function on_error(url) {\n      console.error(\"failed to load \" + url);\n    }\n\n    for (let i = 0; i < css_urls.length; i++) {\n      const url = css_urls[i];\n      const element = document.createElement(\"link\");\n      element.onload = on_load;\n      element.onerror = on_error.bind(null, url);\n      element.rel = \"stylesheet\";\n      element.type = \"text/css\";\n      element.href = url;\n      console.debug(\"Bokeh: injecting link tag for BokehJS stylesheet: \", url);\n      document.body.appendChild(element);\n    }\n\n    for (let i = 0; i < js_urls.length; i++) {\n      const url = js_urls[i];\n      const element = document.createElement('script');\n      element.onload = on_load;\n      element.onerror = on_error.bind(null, url);\n      element.async = false;\n      element.src = url;\n      console.debug(\"Bokeh: injecting script tag for BokehJS library: \", url);\n      document.head.appendChild(element);\n    }\n  };\n\n  function inject_raw_css(css) {\n    const element = document.createElement(\"style\");\n    element.appendChild(document.createTextNode(css));\n    document.body.appendChild(element);\n  }\n\n  const js_urls = [\"https://cdn.bokeh.org/bokeh/release/bokeh-2.4.3.min.js\", \"https://cdn.bokeh.org/bokeh/release/bokeh-gl-2.4.3.min.js\", \"https://cdn.bokeh.org/bokeh/release/bokeh-widgets-2.4.3.min.js\", \"https://cdn.bokeh.org/bokeh/release/bokeh-tables-2.4.3.min.js\", \"https://cdn.bokeh.org/bokeh/release/bokeh-mathjax-2.4.3.min.js\"];\n  const css_urls = [];\n\n  const inline_js = [    function(Bokeh) {\n      Bokeh.set_log_level(\"info\");\n    },\nfunction(Bokeh) {\n    }\n  ];\n\n  function run_inline_js() {\n    if (root.Bokeh !== undefined || force === true) {\n          for (let i = 0; i < inline_js.length; i++) {\n      inline_js[i].call(root, root.Bokeh);\n    }\nif (force === true) {\n        display_loaded();\n      }} else if (Date.now() < root._bokeh_timeout) {\n      setTimeout(run_inline_js, 100);\n    } else if (!root._bokeh_failed_load) {\n      console.log(\"Bokeh: BokehJS failed to load within specified timeout.\");\n      root._bokeh_failed_load = true;\n    } else if (force !== true) {\n      const cell = $(document.getElementById(\"1002\")).parents('.cell').data().cell;\n      cell.output_area.append_execute_result(NB_LOAD_WARNING)\n    }\n  }\n\n  if (root._bokeh_is_loading === 0) {\n    console.debug(\"Bokeh: BokehJS loaded, going straight to plotting\");\n    run_inline_js();\n  } else {\n    load_libs(css_urls, js_urls, function() {\n      console.debug(\"Bokeh: BokehJS plotting callback run at\", now());\n      run_inline_js();\n    });\n  }\n}(window));",
      "application/vnd.bokehjs_load.v0+json": ""
     },
     "metadata": {},
     "output_type": "display_data"
    },
    {
     "data": {
      "text/html": [
       "\n",
       "  <div class=\"bk-root\" id=\"bda198b2-2077-4ef8-a714-9367ed20a7d2\" data-root-id=\"1003\"></div>\n"
      ]
     },
     "metadata": {},
     "output_type": "display_data"
    },
    {
     "data": {
      "application/javascript": "(function(root) {\n  function embed_document(root) {\n  const docs_json = {\"16893a1d-5591-484d-b3be-87197761ec65\":{\"defs\":[],\"roots\":{\"references\":[{\"attributes\":{\"below\":[{\"id\":\"1012\"}],\"center\":[{\"id\":\"1015\"},{\"id\":\"1019\"}],\"left\":[{\"id\":\"1016\"}],\"renderers\":[{\"id\":\"1038\"}],\"title\":{\"id\":\"1040\"},\"toolbar\":{\"id\":\"1027\"},\"width\":800,\"x_range\":{\"id\":\"1004\"},\"x_scale\":{\"id\":\"1008\"},\"y_range\":{\"id\":\"1006\"},\"y_scale\":{\"id\":\"1010\"}},\"id\":\"1003\",\"subtype\":\"Figure\",\"type\":\"Plot\"},{\"attributes\":{\"coordinates\":null,\"group\":null},\"id\":\"1040\",\"type\":\"Title\"},{\"attributes\":{},\"id\":\"1049\",\"type\":\"Selection\"},{\"attributes\":{},\"id\":\"1006\",\"type\":\"DataRange1d\"},{\"attributes\":{},\"id\":\"1004\",\"type\":\"DataRange1d\"},{\"attributes\":{},\"id\":\"1048\",\"type\":\"UnionRenderers\"},{\"attributes\":{\"source\":{\"id\":\"1034\"}},\"id\":\"1039\",\"type\":\"CDSView\"},{\"attributes\":{},\"id\":\"1025\",\"type\":\"HelpTool\"},{\"attributes\":{\"line_color\":\"red\",\"x\":{\"field\":\"x\"},\"y\":{\"field\":\"y\"}},\"id\":\"1035\",\"type\":\"Line\"},{\"attributes\":{},\"id\":\"1047\",\"type\":\"AllLabels\"},{\"attributes\":{\"line_alpha\":0.1,\"line_color\":\"red\",\"x\":{\"field\":\"x\"},\"y\":{\"field\":\"y\"}},\"id\":\"1036\",\"type\":\"Line\"},{\"attributes\":{\"axis\":{\"id\":\"1016\"},\"coordinates\":null,\"dimension\":1,\"group\":null,\"ticker\":null},\"id\":\"1019\",\"type\":\"Grid\"},{\"attributes\":{},\"id\":\"1043\",\"type\":\"BasicTickFormatter\"},{\"attributes\":{\"coordinates\":null,\"formatter\":{\"id\":\"1043\"},\"group\":null,\"major_label_policy\":{\"id\":\"1044\"},\"ticker\":{\"id\":\"1017\"}},\"id\":\"1016\",\"type\":\"LinearAxis\"},{\"attributes\":{\"axis\":{\"id\":\"1012\"},\"coordinates\":null,\"group\":null,\"ticker\":null},\"id\":\"1015\",\"type\":\"Grid\"},{\"attributes\":{},\"id\":\"1017\",\"type\":\"BasicTicker\"},{\"attributes\":{\"tools\":[{\"id\":\"1020\"},{\"id\":\"1021\"},{\"id\":\"1022\"},{\"id\":\"1023\"},{\"id\":\"1024\"},{\"id\":\"1025\"}]},\"id\":\"1027\",\"type\":\"Toolbar\"},{\"attributes\":{\"data\":{\"x\":[0,1,2,3,4,5,6,7,8,9,10,11,12,13,14,15,16,17,18,19,20,21,22,23,24,25,26,27,28,29,30,31,32,33,34,35,36,37,38,39,40,41,42,43,44,45,46,47,48,49,50,51,52,53,54,55,56,57,58,59,60,61,62,63,64,65,66,67,68,69,70,71,72,73,74,75,76,77,78,79,80,81,82,83,84,85,86,87,88,89,90,91,92,93,94,95,96,97,98,99,100,101,102,103,104,105,106,107,108,109,110,111,112,113,114,115,116,117,118,119,120,121,122,123,124,125,126,127,128,129,130,131,132,133,134,135,136,137,138,139,140,141,142,143,144,145,146,147,148,149,150,151,152,153,154,155,156,157,158,159,160,161,162,163,164,165,166,167,168,169,170,171,172,173,174,175,176,177,178,179,180,181,182,183,184,185,186,187,188,189,190,191,192,193,194,195,196,197,198,199,200,201,202,203,204,205,206,207,208,209,210,211,212,213,214,215,216,217,218,219,220,221,222,223,224,225,226,227,228,229,230,231,232,233,234,235,236,237,238,239,240,241,242,243,244,245,246,247,248,249,250,251,252,253,254,255,256,257,258,259,260,261,262,263,264,265,266,267,268,269,270,271,272,273,274,275,276,277,278,279,280,281,282,283,284,285,286,287,288,289,290,291,292,293,294,295,296,297,298,299,300,301,302,303,304,305,306,307,308,309,310,311,312,313,314,315,316,317,318,319,320,321,322,323,324,325,326,327,328,329,330,331,332,333,334,335,336,337,338,339,340,341,342,343,344,345,346,347,348,349,350,351,352,353,354,355,356,357,358,359,360,361,362,363,364,365,366,367,368,369,370,371,372,373,374,375,376,377,378,379,380,381,382,383,384,385,386,387,388,389,390,391,392,393,394,395,396,397,398,399,400,401,402,403,404,405,406,407,408,409,410,411,412,413,414,415,416,417,418,419,420,421,422,423,424,425,426,427,428,429,430,431,432,433,434,435,436,437,438,439,440,441,442,443,444,445,446,447,448,449,450,451,452,453,454,455,456,457,458,459,460,461,462,463,464,465,466,467,468,469,470,471,472,473,474,475,476,477,478,479,480,481,482,483,484,485,486,487,488,489,490,491,492,493,494,495,496,497,498,499,500,501,502,503,504,505,506,507,508,509,510,511,512,513,514,515,516,517,518,519,520,521,522,523,524,525,526,527,528,529,530,531,532,533,534,535,536,537,538,539,540,541,542,543,544,545,546,547,548,549,550,551,552,553,554,555,556,557,558,559,560,561,562,563,564,565,566,567,568,569,570,571,572,573,574,575,576,577,578,579,580,581,582,583,584,585,586,587,588,589,590,591,592,593,594,595,596,597,598,599,600,601,602,603,604,605,606,607,608,609,610,611,612,613,614,615,616,617,618,619,620,621,622,623,624,625,626,627,628,629,630,631,632,633,634,635,636,637,638,639,640,641,642,643,644,645,646,647,648,649,650,651,652,653,654,655,656,657,658,659,660,661,662,663,664,665,666,667,668,669,670,671,672,673,674,675,676,677,678,679,680,681,682,683,684,685,686,687,688,689,690,691,692,693,694,695,696,697,698,699,700,701,702,703,704,705,706,707,708,709,710,711,712,713,714,715,716,717,718,719,720,721,722,723,724,725,726,727,728,729,730,731,732,733,734,735,736,737,738,739,740,741,742,743,744,745,746,747,748,749,750,751,752,753,754,755,756,757,758,759,760,761,762,763,764,765,766,767,768,769,770,771,772,773,774,775,776,777,778,779,780,781,782,783,784,785,786,787,788,789,790,791,792,793,794,795,796,797,798,799,800,801,802,803,804,805,806,807,808,809,810,811,812,813,814,815,816,817,818,819,820,821,822,823,824,825,826,827,828,829,830,831,832,833,834,835,836,837,838,839,840,841,842,843,844,845,846,847,848,849,850,851,852,853,854,855,856,857,858,859,860,861,862,863,864,865,866,867,868,869,870,871,872,873,874,875,876,877,878,879,880,881,882,883,884,885,886,887,888,889,890,891,892,893,894,895,896,897,898,899,900,901,902,903,904,905,906,907,908,909,910,911,912,913,914,915,916,917,918,919,920,921,922,923,924,925,926,927,928,929,930,931,932,933,934,935,936,937,938,939,940,941,942,943,944,945,946,947,948,949,950,951,952,953,954,955,956,957,958,959,960,961,962,963,964,965,966,967,968,969,970,971,972,973,974,975,976,977,978,979,980,981,982,983,984,985,986,987,988,989,990,991,992,993,994,995,996,997,998,999,1000,1001,1002,1003,1004,1005,1006,1007,1008,1009,1010,1011,1012,1013,1014,1015,1016,1017,1018,1019,1020,1021,1022,1023,1024,1025,1026,1027,1028,1029,1030,1031,1032,1033,1034,1035,1036,1037,1038,1039,1040,1041,1042,1043,1044,1045,1046,1047,1048,1049,1050,1051,1052,1053,1054,1055,1056,1057,1058,1059,1060,1061,1062,1063,1064,1065,1066,1067,1068,1069,1070,1071,1072,1073,1074,1075,1076,1077,1078,1079,1080,1081,1082,1083,1084,1085,1086,1087,1088,1089,1090,1091,1092,1093,1094,1095,1096,1097,1098,1099,1100,1101,1102,1103,1104,1105,1106,1107,1108,1109,1110,1111,1112,1113,1114,1115,1116,1117,1118,1119,1120,1121,1122,1123,1124,1125,1126,1127,1128,1129,1130,1131,1132,1133,1134,1135,1136,1137,1138,1139,1140,1141,1142,1143,1144,1145,1146,1147,1148,1149,1150,1151,1152,1153,1154,1155,1156,1157,1158,1159,1160,1161,1162,1163,1164,1165,1166,1167,1168,1169,1170,1171,1172,1173,1174,1175,1176,1177,1178,1179,1180,1181,1182,1183,1184,1185,1186,1187,1188,1189,1190,1191,1192,1193,1194,1195,1196,1197,1198,1199,1200,1201,1202,1203,1204,1205,1206,1207,1208,1209,1210,1211,1212,1213,1214,1215,1216,1217,1218,1219,1220,1221,1222,1223,1224,1225,1226,1227,1228,1229,1230,1231,1232,1233,1234,1235,1236,1237,1238,1239,1240,1241,1242,1243,1244,1245,1246,1247,1248,1249,1250,1251,1252,1253,1254,1255,1256,1257,1258,1259,1260,1261,1262,1263,1264,1265,1266,1267,1268,1269,1270,1271,1272,1273,1274,1275,1276,1277,1278,1279,1280,1281,1282,1283,1284,1285,1286,1287,1288,1289,1290,1291,1292,1293,1294,1295,1296,1297,1298,1299,1300,1301,1302,1303,1304,1305,1306,1307,1308,1309,1310,1311,1312,1313,1314,1315,1316,1317,1318,1319,1320,1321,1322,1323,1324,1325,1326,1327,1328,1329,1330,1331,1332,1333,1334,1335,1336,1337,1338,1339,1340,1341,1342,1343,1344,1345,1346,1347,1348,1349,1350,1351,1352,1353,1354,1355,1356,1357,1358,1359,1360,1361,1362,1363,1364,1365,1366,1367,1368,1369,1370,1371,1372,1373,1374,1375,1376,1377,1378,1379,1380,1381,1382,1383,1384,1385,1386,1387,1388,1389,1390,1391,1392,1393,1394,1395,1396,1397,1398,1399,1400,1401,1402,1403,1404,1405,1406,1407,1408,1409,1410,1411,1412,1413,1414,1415,1416,1417,1418,1419,1420,1421,1422,1423,1424,1425,1426,1427,1428,1429,1430,1431,1432,1433,1434,1435,1436,1437,1438,1439,1440,1441,1442,1443,1444,1445,1446,1447,1448,1449,1450,1451,1452,1453,1454,1455,1456,1457,1458,1459,1460,1461,1462,1463,1464,1465,1466,1467,1468,1469,1470,1471,1472,1473,1474,1475,1476,1477,1478,1479,1480,1481,1482,1483,1484,1485,1486,1487,1488,1489,1490,1491,1492,1493,1494,1495,1496,1497,1498,1499,1500,1501,1502,1503,1504,1505,1506,1507,1508,1509,1510,1511,1512,1513,1514,1515,1516,1517,1518,1519,1520,1521,1522,1523,1524,1525,1526,1527,1528,1529,1530,1531,1532,1533,1534,1535,1536,1537,1538,1539,1540,1541,1542,1543,1544,1545,1546,1547,1548,1549,1550,1551,1552,1553,1554,1555,1556,1557,1558,1559,1560,1561,1562,1563,1564,1565,1566,1567,1568,1569,1570,1571,1572,1573,1574,1575,1576,1577,1578,1579,1580,1581,1582,1583,1584,1585,1586,1587,1588,1589,1590,1591,1592,1593,1594,1595,1596,1597,1598,1599,1600,1601,1602,1603,1604,1605,1606,1607,1608,1609,1610,1611],\"y\":{\"__ndarray__\":\"qvkBDE1ulr9CyKHS7VOXvxIrYkWsiJW/lqbSVJpKk78SK2JFrIiVvy51chs7MJS/4o0iuGq9k7+WptJUmkqTvzFW+V3yfpG/FQzph2PXkr8xVvld8n6Rv309ScHC8ZG/OgaUTX+2jL86BpRNf7aMv2qj09rAgY6/CjSBJtAEir+iAiHtcOqKv6r5AQxNboa/2pZBmY45iL/alkGZjjmIv6r5AQxNboa/elzCfgujhL9Jiq9XXPGBv+FYTx791oK/Aj2gB/SAfr+iAiHtcOp6v3Jl4V8vH3m/Qsih0u1Td7/hI3yEj/BxvwLT+dMYtFy/oph6uZUdab8C0/nTGLRcvwLT+dMYtFy/AtP50xi0PD9CXvueEodVPwAAAAAAAAAA4SN8hI/wYT8C0/nTGLRcP+KNIrhqvXM/4o0iuGq9cz+xhjz3TSVwP+KNIrhqvXM/AtP50xi0XL+iAiHtcOp6v2qj09rAgY6/lqbSVJpKk7/GQxLi2xWVvxIrYkWsiJW/xkMS4tsVlb9eErKofPuVv+KNIrhqvZO/FQzph2PXkr/JJJkkk2SSv8kkmSSTZJK/5W6p+iEMkb/S1DMUIJyNv5mHWZdRmZC/aqPT2sCBjr/S1DMUIJyNv9qWQZmOOYi/Qsih0u1Th78KNIEm0ASKvxIrYkWsiIW/qvkBDE1uhr8Z7W/KGiaAvxntb8oaJoC/Ge1vyhomgL8CPaAH9IB+vwI9oAf0gH6/EitiRayIdb+iAiHtcOp6v0LIodLtU3e/4SN8hI/wcb+imHq5lR1pv+EjfISP8GG/Ql77nhKHZb8C0/nTGLQ8vwAAAAAAAAAAAtP50xi0PD8C0/nTGLRMPwLT+dMYtFw/sYY8900lcD/hI3yEj/BhP7GGPPdNJXA/sYY8900lcD+iAiHtcOp6P9KfYHqytXw/Qsih0u1Tdz8CPaAH9IB+PwI9oAf0gH4/4o0iuGq9gz+xuw+RuwuBPwLT+dMYtFw/4o0iuGq9c7/alkGZjjmIv2qj09rAgY6/lqbSVJpKk78udXIbOzCUv+KNIrhqvZO/lqbSVJpKk78VDOmHY9eSvxUM6Ydj15K/mYdZl1GZkL/lbqn6IQyRv02gCTSBJpC/TaAJNIEmkL/S1DMUIJyNv3Jl4V8vH4m/0tQzFCCcjb+iAiHtcOqKvzrRwLMR0Iu/EitiRayIhb8SK2JFrIiFv0LIodLtU4e/4VhPHv3Wgr9Jiq9XXPGBv6ICIe1w6nq/sbsPkbsLgb8CPaAH9IB+v3Jl4V8vH3m/0p9gerK1fL8SK2JFrIh1v0LIodLtU3e/sYY8900lcL8C0/nTGLRsv0Je+54Sh2W/AtP50xi0XL/hI3yEj/BhvwLT+dMYtDw/AAAAAAAAAABCXvueEodVPwLT+dMYtDw/Ql77nhKHZT/hI3yEj/BxP0Je+54Sh2U/sYY8900lcD8C0/nTGLRsP6ICIe1w6no/ogIh7XDqej8SK2JFrIh1P9KfYHqytXw/0p9gerK1fD8C0/nTGLRcP6ICIe1w6nq/OtHAsxHQi78xVvld8n6Rv3pcwn4Lo5S/xkMS4tsVlb9eErKofPuVvy51chs7MJS/LnVyGzswlL/ijSK4ar2TvxUM6Ydj15K/FQzph2PXkr+Zh1mXUZmQvzFW+V3yfpG/AnJzoWFnj7/lbqn6IQyRvzoGlE1/toy/CjSBJtAEir/S1DMUIJyNv6ICIe1w6oq/CjSBJtAEir/ijSK4ar2Dv+KNIrhqvYO/EitiRayIhb9Jiq9XXPGBv+FYTx791oK/0p9gerK1fL+xuw+RuwuBvxntb8oaJoC/cmXhXy8feb9CyKHS7VN3v+EjfISP8HG/4o0iuGq9c7/hI3yEj/Bhv0Je+54Sh2W/AtP50xi0XL8C0/nTGLRMvwAAAAAAAAAAAtP50xi0XD8C0/nTGLQ8P+EjfISP8GE/AtP50xi0XD+xhjz3TSVwPxIrYkWsiHU/4SN8hI/wcT8SK2JFrIh1P+KNIrhqvXM/Ge1vyhomgD8Z7W/KGiaAP3Jl4V8vH3k/AtP50xi0TD9CyKHS7VN3v6r5AQxNboa/MVb5XfJ+kb/ijSK4ar2Tv5am0lSaSpO/LnVyGzswlL8VDOmHY9eSv+KNIrhqvZO/MVb5XfJ+kb99PUnBwvGRv+VuqfohDJG/mYdZl1GZkL9qo9PawIGOvzrRwLMR0Iu/aqPT2sCBjr+iAiHtcOqKvzrRwLMR0Iu/Qsih0u1Th78SK2JFrIiFv0LIodLtU4e/elzCfgujhL96XMJ+C6OEv9KfYHqytXy/0p9gerK1fL9Jiq9XXPGBv9KfYHqytXy/ogIh7XDqer8SK2JFrIh1v6ICIe1w6nq/4o0iuGq9c78C0/nTGLRsv6KYermVHWm/4SN8hI/wYb9CXvueEodlvwAAAAAAAAAAAtP50xi0PL8C0/nTGLRMPwLT+dMYtDw/4SN8hI/wYT8C0/nTGLRsP+EjfISP8GE/sYY8900lcD+xhjz3TSVwP3Jl4V8vH3k/ogIh7XDqej9CyKHS7VN3P9KfYHqytXw/ogIh7XDqej9Jiq9XXPGBP0Je+54Sh1U/Aj2gB/SAfr8KNIEm0ASKv309ScHC8ZG/FQzph2PXkr9eErKofPuVv8ZDEuLbFZW/LnVyGzswlL/ijSK4ar2Tv5am0lSaSpO/lqbSVJpKk7+Zh1mXUZmQvzFW+V3yfpG/mYdZl1GZkL+Zh1mXUZmQv9LUMxQgnI2/ogIh7XDqir/S1DMUIJyNvzrRwLMR0Iu/ogIh7XDqir+q+QEMTW6GvxIrYkWsiIW/qvkBDE1uhr/hWE8e/daCv+KNIrhqvYO/Aj2gB/SAfr8Z7W/KGiaAv7G7D5G7C4G/Aj2gB/SAfr/Sn2B6srV8v+KNIrhqvXO/Qsih0u1Td7+xhjz3TSVwv6KYermVHWm/AtP50xi0XL/hI3yEj/Bhv0Je+54Sh1W/Ql77nhKHVT8C0/nTGLQ8P0Je+54Sh1U/Ql77nhKHVT8C0/nTGLRsP+EjfISP8HE/oph6uZUdaT/hI3yEj/BxP+KNIrhqvXM/0p9gerK1fD8CPaAH9IB+P3Jl4V8vH3k/Aj2gB/SAfj8C0/nTGLQ8P7GGPPdNJXC/Qsih0u1Th79NoAk0gSaQv309ScHC8ZG/lqbSVJpKk78xVvld8n6RvxUM6Ydj15K/MVb5XfJ+kb/lbqn6IQyRvwJyc6FhZ4+/TaAJNIEmkL9qo9PawIGOv3Jl4V8vH4m/OtHAsxHQi7+iAiHtcOqKv6ICIe1w6oq/qvkBDE1uhr/ijSK4ar2Dv9qWQZmOOYi/elzCfgujhL/ijSK4ar2Dv9KfYHqytXy/0p9gerK1fL8Z7W/KGiaAv6ICIe1w6nq/ogIh7XDqer/hI3yEj/Bxv3Jl4V8vH3m/4o0iuGq9c7+xhjz3TSVwvwLT+dMYtGy/4SN8hI/wYb9CXvueEodlvwLT+dMYtEy/AtP50xi0TL8C0/nTGLQ8PwLT+dMYtDw/AtP50xi0TD8C0/nTGLRsP0Je+54Sh2U/AtP50xi0bD+imHq5lR1pP0LIodLtU3c/ogIh7XDqej/ijSK4ar1zP3Jl4V8vH3k/cmXhXy8feT9Jiq9XXPGBPwI9oAf0gH4/AAAAAAAAAAASK2JFrIh1v3Jl4V8vH4m/aqPT2sCBjr/ijSK4ar2Tvy51chs7MJS/4o0iuGq9k7+WptJUmkqTv8kkmSSTZJK/FQzph2PXkr/lbqn6IQyRv+VuqfohDJG/TaAJNIEmkL9NoAk0gSaQvwJyc6FhZ4+/ogIh7XDqir86BpRNf7aMv6ICIe1w6oq/OgaUTX+2jL9CyKHS7VOHv3pcwn4Lo4S/2pZBmY45iL96XMJ+C6OEv+KNIrhqvYO/ogIh7XDqer+xuw+RuwuBv0mKr1dc8YG/0p9gerK1fL8CPaAH9IB+vxIrYkWsiHW/cmXhXy8feb/hI3yEj/Bxv7GGPPdNJXC/oph6uZUdab/hI3yEj/BhvwLT+dMYtFy/AAAAAAAAAAAAAAAAAAAAAEJe+54Sh1U/Ql77nhKHVT/hI3yEj/BhP7GGPPdNJXA/Ql77nhKHZT+xhjz3TSVwPwLT+dMYtGw/Qsih0u1Tdz/Sn2B6srV8P+KNIrhqvXM/ogIh7XDqej9yZeFfLx95P0Je+54Sh1U/Ge1vyhomgL8CcnOhYWePv5am0lSaSpO/qvkBDE1ulr/24FFvHeGWv1oxK2bFrJi/9uBRbx3hlr+q+QEMTW6Wv6r5AQxNbpa/EitiRayIlb/GQxLi2xWVvxUM6Ydj15K/lqbSVJpKk7/JJJkkk2SSv8kkmSSTZJK/5W6p+iEMkb9qo9PawIGOv5mHWZdRmZC/0tQzFCCcjb9qo9PawIGOv3Jl4V8vH4m/qvkBDE1uhr/alkGZjjmIvxIrYkWsiIW/qvkBDE1uhr8CPaAH9IB+v+FYTx791oK/4VhPHv3Wgr8CPaAH9IB+v6ICIe1w6nq/EitiRayIdb9CyKHS7VN3vwLT+dMYtGy/Ql77nhKHZb/hI3yEj/Bhv0Je+54Sh1W/AtP50xi0TL9CXvueEodVPwLT+dMYtDw/AtP50xi0XD/hI3yEj/BhPwLT+dMYtGw/EitiRayIdT+xhjz3TSVwP0LIodLtU3c/4o0iuGq9cz8Z7W/KGiaAP7G7D5G7C4E/ogIh7XDqej8C0/nTGLRMP3Jl4V8vH3m/elzCfgujhL+Zh1mXUZmQv5am0lSaSpO/lqbSVJpKk78VDOmHY9eSv309ScHC8ZG/FQzph2PXkr+Zh1mXUZmQv02gCTSBJpC/TaAJNIEmkL9qo9PawIGOvzoGlE1/toy/cmXhXy8fib+iAiHtcOqKv9qWQZmOOYi/cmXhXy8fib8SK2JFrIiFv+FYTx791oK/qvkBDE1uhr9Jiq9XXPGBv0mKr1dc8YG/cmXhXy8feb9yZeFfLx95v9KfYHqytXy/Qsih0u1Td79yZeFfLx95v7GGPPdNJXC/4SN8hI/wcb+xhjz3TSVwv0Je+54Sh2W/AtP50xi0XL8C0/nTGLRMvwLT+dMYtFy/AtP50xi0PD8C0/nTGLRMP0Je+54Sh1U/Ql77nhKHVT/hI3yEj/BhP+KNIrhqvXM/oph6uZUdaT/hI3yEj/BxP+EjfISP8HE/ogIh7XDqej8CPaAH9IB+P0LIodLtU3c/Aj2gB/SAfj/Sn2B6srV8P+FYTx791oI/Ql77nhKHVT+iAiHtcOp6v3Jl4V8vH4m/MVb5XfJ+kb/JJJkkk2SSv8ZDEuLbFZW/xkMS4tsVlb/ijSK4ar2Tv5am0lSaSpO/ySSZJJNkkr+WptJUmkqTv+VuqfohDJG/5W6p+iEMkb9NoAk0gSaQv5mHWZdRmZC/AnJzoWFnj78KNIEm0ASKv9LUMxQgnI2/OtHAsxHQi7860cCzEdCLvxIrYkWsiIW/elzCfgujhL9CyKHS7VOHv+FYTx791oK/4VhPHv3Wgr8CPaAH9IB+vxntb8oaJoC/sbsPkbsLgb8CPaAH9IB+v9KfYHqytXy/4o0iuGq9c78SK2JFrIh1v+EjfISP8HG/oph6uZUdab9CXvueEodlv0Je+54Sh1W/4SN8hI/wYb8C0/nTGLQ8PwLT+dMYtDw/Ql77nhKHVT9CXvueEodVP+EjfISP8GE/4SN8hI/wcT+imHq5lR1pP7GGPPdNJXA/sYY8900lcD/Sn2B6srV8P9KfYHqytXw/EitiRayIdT+iAiHtcOp6PwLT+dMYtDy/cmXhXy8feb9CyKHS7VOHv+KNIrhqvZO/4o0iuGq9k796XMJ+C6OUv14Ssqh8+5W/XhKyqHz7lb/ijSK4ar2Tvy51chs7MJS/FQzph2PXkr8xVvld8n6Rv8kkmSSTZJK/TaAJNIEmkL9NoAk0gSaQv2qj09rAgY6/AnJzoWFnj786BpRNf7aMv9qWQZmOOYi/ogIh7XDqir/alkGZjjmIv3Jl4V8vH4m/4VhPHv3Wgr+xuw+RuwuBv+KNIrhqvYO/SYqvV1zxgb+xuw+RuwuBv3Jl4V8vH3m/Ge1vyhomgL/Sn2B6srV8vxIrYkWsiHW/EitiRayIdb+imHq5lR1pv7GGPPdNJXC/4SN8hI/wYb8C0/nTGLRcvwLT+dMYtEy/AAAAAAAAAAAC0/nTGLQ8P0Je+54Sh2U/AtP50xi0XD8C0/nTGLRsP0Je+54Sh2U/4o0iuGq9cz+iAiHtcOp6P+KNIrhqvXM/cmXhXy8feT9CyKHS7VN3P0mKr1dc8YE/sbsPkbsLgT+xhjz3TSVwP+EjfISP8GE/AtP50xi0PL8C0/nTGLQ8vwLT+dMYtGy/oph6uZUdab9CXvueEodVvwLT+dMYtFy/AtP50xi0PL9CXvueEodVvwLT+dMYtDw/AAAAAAAAAAAC0/nTGLQ8PwLT+dMYtEw/AtP50xi0TD/hI3yEj/BhPwLT+dMYtEw/4SN8hI/wYT8C0/nTGLRMP6KYermVHWk/sYY8900lcD9CXvueEodlPwLT+dMYtGw/oph6uZUdaT8SK2JFrIh1P7GGPPdNJXA/Ql77nhKHZT8C0/nTGLRsP6KYermVHWk/4o0iuGq9cz+imHq5lR1pPwLT+dMYtGw/4o0iuGq9cz/hI3yEj/BxPxIrYkWsiHU/4SN8hI/wcT+iAiHtcOp6PxIrYkWsiHU/Qsih0u1Tdz9CyKHS7VN3P3Jl4V8vH3k/0p9gerK1fD9CyKHS7VN3P9KfYHqytXw/Qsih0u1Tdz8CPaAH9IB+Pxntb8oaJoA/cmXhXy8feT/Sn2B6srV8P0LIodLtU3c/Qsih0u1Tdz/hI3yEj/BhP+EjfISP8GG/Ql77nhKHZb/hI3yEj/Bxv0Je+54Sh2W/4SN8hI/wcb/hI3yEj/Bxv6KYermVHWm/AtP50xi0bL8C0/nTGLRsv+EjfISP8HG/Ql77nhKHZb8C0/nTGLRsv6KYermVHWm/AtP50xi0bL9CXvueEodlvwLT+dMYtFy/AtP50xi0bL9CXvueEodlv6KYermVHWm/Ql77nhKHVb8C0/nTGLRMv+EjfISP8GG/Ql77nhKHVb9CXvueEodlvwLT+dMYtDy/AtP50xi0XL+imHq5lR1pvwLT+dMYtFy/4SN8hI/wYb8AAAAAAAAAAALT+dMYtFy/AtP50xi0TL8AAAAAAAAAAAAAAAAAAAAAAAAAAAAAAAAC0/nTGLQ8vwLT+dMYtFw/AtP50xi0TD9CXvueEodVPwLT+dMYtDw/4SN8hI/wYT+imHq5lR1pP0Je+54Sh1U/4SN8hI/wYT8C0/nTGLRcPwLT+dMYtGw/AtP50xi0bD8C0/nTGLRcPwLT+dMYtDw/oph6uZUdab8C0/nTGLRsv3Jl4V8vH3m/Ge1vyhomgL/Sn2B6srV8v9KfYHqytXy/EitiRayIdb/Sn2B6srV8v0LIodLtU3e/EitiRayIdb/ijSK4ar1zvxIrYkWsiHW/Qsih0u1Td78C0/nTGLRsv+EjfISP8HG/4SN8hI/wcb/ijSK4ar1zv6KYermVHWm/AtP50xi0XL8C0/nTGLRsv0Je+54Sh2W/Ql77nhKHZb8C0/nTGLQ8vwLT+dMYtEy/Ql77nhKHZb8C0/nTGLRMv+EjfISP8GG/AtP50xi0TL9CXvueEodVvwLT+dMYtFy/AtP50xi0TL8C0/nTGLRMv0Je+54Sh1U/AtP50xi0PL8C0/nTGLRMP0Je+54Sh1U/4SN8hI/wYT9CXvueEodVPwLT+dMYtFw/AtP50xi0bD9CXvueEodlP0Je+54Sh2U/4SN8hI/wYT+xhjz3TSVwPxIrYkWsiHU/oph6uZUdaT/hI3yEj/BxP+EjfISP8HE/Qsih0u1Tdz+imHq5lR1pP0Je+54Sh1W/4SN8hI/wYb/ijSK4ar1zv7GGPPdNJXC/EitiRayIdb/hI3yEj/Bxv+EjfISP8HG/4SN8hI/wcb+imHq5lR1pv+EjfISP8HG/oph6uZUdab+imHq5lR1pv+EjfISP8GG/oph6uZUdab9CXvueEodlvwLT+dMYtEy/4SN8hI/wYb8C0/nTGLRcv+EjfISP8GG/AtP50xi0PL8C0/nTGLRMPwLT+dMYtFy/AtP50xi0PL8C0/nTGLRMvwLT+dMYtEw/AAAAAAAAAAAC0/nTGLRcvwLT+dMYtDy/AtP50xi0TL8C0/nTGLRMPwLT+dMYtDy/AtP50xi0PD8C0/nTGLRMP0Je+54Sh1U/4SN8hI/wYT9CXvueEodVP0Je+54Sh2U/4SN8hI/wYT9CXvueEodlP+EjfISP8GE/Ql77nhKHZT+xhjz3TSVwP6KYermVHWk/AtP50xi0bD9CXvueEodlPxIrYkWsiHU/Qsih0u1Tdz+imHq5lR1pP7GGPPdNJXA/AtP50xi0TD8C0/nTGLQ8P6KYermVHWm/cmXhXy8feb9CyKHS7VN3v3Jl4V8vH3m/4o0iuGq9c79yZeFfLx95vxIrYkWsiHW/EitiRayIdb8SK2JFrIh1v+KNIrhqvXO/EitiRayIdb8C0/nTGLRsv+EjfISP8HG/AtP50xi0bL+xhjz3TSVwvwLT+dMYtGy/4SN8hI/wYb+imHq5lR1pv0Je+54Sh2W/AtP50xi0bL8C0/nTGLRMvwLT+dMYtDy/Ql77nhKHZb/hI3yEj/Bhv+EjfISP8GG/AtP50xi0PL/hI3yEj/Bhv+EjfISP8GG/AtP50xi0TL8C0/nTGLRMvwLT+dMYtDw/AtP50xi0TL8C0/nTGLQ8PwLT+dMYtEw/AtP50xi0TD9CXvueEodVP0Je+54Sh1U/oph6uZUdaT8C0/nTGLRcP0Je+54Sh2U/4SN8hI/wYT+imHq5lR1pP+EjfISP8HE/Ql77nhKHZT+xhjz3TSVwP0Je+54Sh2U/4o0iuGq9cz/ijSK4ar1zPwLT+dMYtEw/AtP50xi0TL8C0/nTGLRsv0Je+54Sh2W/Qsih0u1Td79yZeFfLx95v+KNIrhqvXO/EitiRayIdb+xhjz3TSVwvxIrYkWsiHW/AtP50xi0bL8C0/nTGLRsvwLT+dMYtGy/AtP50xi0bL+imHq5lR1pv0Je+54Sh1W/Ql77nhKHZb/hI3yEj/Bhv0Je+54Sh2W/Ql77nhKHVb8AAAAAAAAAAOEjfISP8GG/AtP50xi0TL8C0/nTGLRcvwLT+dMYtDw/AAAAAAAAAABCXvueEodVvwLT+dMYtEy/AtP50xi0XL8C0/nTGLRMPwLT+dMYtEy/AtP50xi0TL8AAAAAAAAAAALT+dMYtEw/Ql77nhKHVT8AAAAAAAAAAALT+dMYtFw/4SN8hI/wYT8C0/nTGLRcP+EjfISP8GE/Ql77nhKHZT+xhjz3TSVwP+EjfISP8GE/oph6uZUdaT9CXvueEodlP+EjfISP8HE/4o0iuGq9cz+imHq5lR1pP+KNIrhqvXM/oph6uZUdaT+imHq5lR1pPwLT+dMYtDy/AtP50xi0bL/hI3yEj/Bxv3Jl4V8vH3m/sYY8900lcL8SK2JFrIh1vxIrYkWsiHW/4o0iuGq9c7/hI3yEj/Bxv7GGPPdNJXC/4o0iuGq9c7+imHq5lR1pv6KYermVHWm/oph6uZUdab8C0/nTGLRsv0Je+54Sh2W/Ql77nhKHVb+imHq5lR1pv+EjfISP8GG/Ql77nhKHZb8C0/nTGLQ8vwAAAAAAAAAA4SN8hI/wYb8C0/nTGLQ8v+EjfISP8GG/AAAAAAAAAABCXvueEodVv+EjfISP8GG/AtP50xi0TL9CXvueEodVvwLT+dMYtDw/AtP50xi0PL8AAAAAAAAAAALT+dMYtDw/AtP50xi0TD9CXvueEodVPwLT+dMYtDw/4SN8hI/wYT/hI3yEj/BhP0Je+54Sh2U/AtP50xi0XD9CXvueEodlP+KNIrhqvXM/4SN8hI/wYT8C0/nTGLRsP6KYermVHWk/EitiRayIdT/ijSK4ar1zP0Je+54Sh2U/AtP50xi0XD8C0/nTGLRcv0Je+54Sh2W/Qsih0u1Td7/Sn2B6srV8v3Jl4V8vH3m/ogIh7XDqer8SK2JFrIh1v6ICIe1w6nq/Qsih0u1Td78SK2JFrIh1vxIrYkWsiHW/4SN8hI/wcb9CyKHS7VN3v7GGPPdNJXC/4SN8hI/wcb+xhjz3TSVwv+KNIrhqvXO/oph6uZUdab8C0/nTGLRcvwLT+dMYtGy/Ql77nhKHZb+imHq5lR1pvwAAAAAAAAAAAtP50xi0TL+imHq5lR1pvwLT+dMYtFy/4SN8hI/wYb8C0/nTGLRMv+EjfISP8GG/AtP50xi0XL8C0/nTGLQ8vwLT+dMYtEy/AAAAAAAAAAAC0/nTGLQ8vwLT+dMYtEw/AtP50xi0TD9CXvueEodVPwLT+dMYtFw/AtP50xi0TD+imHq5lR1pP+EjfISP8GE/oph6uZUdaT8C0/nTGLRcPwLT+dMYtGw/4o0iuGq9cz9CXvueEodlPwLT+dMYtGw/oph6uZUdaT8SK2JFrIh1P+EjfISP8GE/Ql77nhKHVb/hI3yEj/Bhv7GGPPdNJXC/AtP50xi0bL/ijSK4ar1zv+EjfISP8HG/AtP50xi0bL+xhjz3TSVwv0Je+54Sh2W/AtP50xi0bL/hI3yEj/Bhv0Je+54Sh2W/4SN8hI/wYb9CXvueEodlv+EjfISP8GG/AtP50xi0PL/hI3yEj/BhvwLT+dMYtEy/AtP50xi0XL8AAAAAAAAAAALT+dMYtEw/AtP50xi0TL8AAAAAAAAAAALT+dMYtEy/Ql77nhKHVT8C0/nTGLQ8P0Je+54Sh1W/AtP50xi0TL8C0/nTGLQ8v0Je+54Sh1U/AtP50xi0PL8C0/nTGLQ8P0Je+54Sh1U/AtP50xi0TD8C0/nTGLRcPwLT+dMYtEw/Ql77nhKHZT/hI3yEj/BhP0Je+54Sh2U/Ql77nhKHZT+imHq5lR1pP+EjfISP8HE/Ql77nhKHZT+xhjz3TSVwP6KYermVHWk/4o0iuGq9cz8SK2JFrIh1PwLT+dMYtGw/AtP50xi0bD8C0/nTGLQ8PwAAAAAAAAAAsYY8900lcL/Sn2B6srV8v9KfYHqytXy/ogIh7XDqer9CyKHS7VN3vwI9oAf0gH6/ogIh7XDqer9CyKHS7VN3v0LIodLtU3e/EitiRayIdb9CyKHS7VN3v7GGPPdNJXC/EitiRayIdb/ijSK4ar1zv+KNIrhqvXO/AtP50xi0bL9CXvueEodlv+EjfISP8HG/oph6uZUdab+xhjz3TSVwvwLT+dMYtFy/Ql77nhKHVb+imHq5lR1pv0Je+54Sh2W/oph6uZUdab8C0/nTGLRMv0Je+54Sh2W/oph6uZUdab8C0/nTGLRcv0Je+54Sh1W/AAAAAAAAAAAC0/nTGLRcvwLT+dMYtDy/AtP50xi0PD8C0/nTGLQ8PwLT+dMYtDw/AtP50xi0PD9CXvueEodlPwLT+dMYtEw/AtP50xi0XD9CXvueEodVP6KYermVHWk/AtP50xi0bD8C0/nTGLRcP6KYermVHWk/Ql77nhKHZT/ijSK4ar1zP7GGPPdNJXA/AtP50xi0TD8C0/nTGLRMv7GGPPdNJXC/AtP50xi0bL9yZeFfLx95v3Jl4V8vH3m/4o0iuGq9c78SK2JFrIh1v7GGPPdNJXC/Qsih0u1Td7/hI3yEj/Bxv7GGPPdNJXC/AtP50xi0bL+xhjz3TSVwvwLT+dMYtGy/Ql77nhKHVb8C0/nTGLRsv0Je+54Sh2W/oph6uZUdab8C0/nTGLRMvwLT+dMYtEy/Ql77nhKHZb8C0/nTGLRMv0Je+54Sh1W/AtP50xi0PD8C0/nTGLRMvwLT+dMYtFy/AtP50xi0TL8C0/nTGLRcvwLT+dMYtDw/AtP50xi0TL8C0/nTGLQ8vwLT+dMYtDw/AtP50xi0PD9CXvueEodVPwAAAAAAAAAA4SN8hI/wYT8C0/nTGLRcP0Je+54Sh2U/AtP50xi0XD/hI3yEj/BhP+EjfISP8HE/Ql77nhKHZT+imHq5lR1pP+EjfISP8GE/4o0iuGq9cz/ijSK4ar1zP6KYermVHWk/4SN8hI/wcT8C0/nTGLRsP0Je+54Sh2U/AtP50xi0TL+xhjz3TSVwv+KNIrhqvXO/ogIh7XDqer/ijSK4ar1zv3Jl4V8vH3m/Qsih0u1Td78SK2JFrIh1v+KNIrhqvXO/4SN8hI/wcb8SK2JFrIh1v6KYermVHWm/sYY8900lcL8C0/nTGLRsv+EjfISP8HG/AtP50xi0bL8C0/nTGLRcvwLT+dMYtGy/Ql77nhKHZb8C0/nTGLRsvwLT+dMYtEy/AtP50xi0TL9CXvueEodlv0Je+54Sh1W/4SN8hI/wYb8AAAAAAAAAAALT+dMYtFy/4SN8hI/wYb8C0/nTGLRMv0Je+54Sh1W/AtP50xi0PD8C0/nTGLRMvwLT+dMYtDw/AtP50xi0PD8C0/nTGLQ8PwLT+dMYtEw/AtP50xi0PD/hI3yEj/BhP0Je+54Sh1U/4SN8hI/wYT9CXvueEodVP0Je+54Sh2U/sYY8900lcD/hI3yEj/BhP6KYermVHWk/4SN8hI/wYT/ijSK4ar1zP+KNIrhqvXM/Ql77nhKHZT8C0/nTGLRMPwLT+dMYtFy/4SN8hI/wYb9CyKHS7VN3v9KfYHqytXy/EitiRayIdb9yZeFfLx95vxIrYkWsiHW/cmXhXy8feb/ijSK4ar1zv+KNIrhqvXO/4SN8hI/wcb/hI3yEj/Bxv+EjfISP8HG/oph6uZUdab+xhjz3TSVwv6KYermVHWm/sYY8900lcL/hI3yEj/Bhv0Je+54Sh1W/Ql77nhKHZb8C0/nTGLRcv0Je+54Sh2W/AAAAAAAAAAAC0/nTGLQ8v0Je+54Sh2W/Ql77nhKHVb8C0/nTGLRcvwAAAAAAAAAAAtP50xi0XL9CXvueEodVvwAAAAAAAAAAAAAAAAAAAAAC0/nTGLQ8PwLT+dMYtDy/AtP50xi0XD8C0/nTGLRMP0Je+54Sh1U/Ql77nhKHVT8C0/nTGLRcP6KYermVHWk/AtP50xi0XD+imHq5lR1pP+EjfISP8GE/AtP50xi0bD/hI3yEj/BxP6KYermVHWk/sYY8900lcD8C0/nTGLRsPxIrYkWsiHU/4SN8hI/wYT/hI3yEj/BhvwLT+dMYtGy/Qsih0u1Td7/ijSK4ar1zv9KfYHqytXy/cmXhXy8feb8SK2JFrIh1vxIrYkWsiHW/EitiRayIdb9yZeFfLx95v7GGPPdNJXC/4SN8hI/wcb/hI3yEj/Bxv+KNIrhqvXO/AtP50xi0bL9CXvueEodlv7GGPPdNJXC/oph6uZUdab8C0/nTGLRsv+EjfISP8GG/Ql77nhKHVb+imHq5lR1pvwLT+dMYtFy/4SN8hI/wYb8C0/nTGLQ8v0Je+54Sh1W/Ql77nhKHZb/hI3yEj/BhvwLT+dMYtFy/AtP50xi0PD8C0/nTGLRcvwLT+dMYtDy/AtP50xi0PD8C0/nTGLQ8PwLT+dMYtDw/AAAAAAAAAAAC0/nTGLRcP0Je+54Sh1U/AtP50xi0XD8C0/nTGLRMP0Je+54Sh2U/sYY8900lcD8C0/nTGLRcP0Je+54Sh2U/oph6uZUdaT/hI3yEj/BxP+EjfISP8HE/oph6uZUdaT+xhjz3TSVwPwAAAAAAAAAAAtP50xi0PL/hI3yEj/Bxv9KfYHqytXy/Aj2gB/SAfr8Z7W/KGiaAv3Jl4V8vH3m/sbsPkbsLgb/Sn2B6srV8v6ICIe1w6nq/cmXhXy8feb9yZeFfLx95v6ICIe1w6nq/4o0iuGq9c78SK2JFrIh1vxIrYkWsiHW/Qsih0u1Td7+xhjz3TSVwv6KYermVHWm/4o0iuGq9c7+xhjz3TSVwv7GGPPdNJXC/Ql77nhKHVb8C0/nTGLRcv6KYermVHWm/4SN8hI/wYb8C0/nTGLRsv0Je+54Sh1W/oph6uZUdab9CXvueEodlv+EjfISP8GG/AtP50xi0XL8AAAAAAAAAAEJe+54Sh1W/AAAAAAAAAAAAAAAAAAAAAALT+dMYtEw/AtP50xi0TD8C0/nTGLRMP0Je+54Sh2U/AtP50xi0XD/hI3yEj/BhP0Je+54Sh1U/oph6uZUdaT/hI3yEj/BxP+EjfISP8GE/AtP50xi0bD8C0/nTGLRsP0LIodLtU3c/4SN8hI/wcT8C0/nTGLQ8PwAAAAAAAAAAAtP50xi0bL8C0/nTGLRsv0LIodLtU3e/EitiRayIdb/ijSK4ar1zv+KNIrhqvXO/sYY8900lcL/ijSK4ar1zvwLT+dMYtGy/AtP50xi0bL+imHq5lR1pvwLT+dMYtGy/oph6uZUdab9CXvueEodVv0Je+54Sh2W/4SN8hI/wYb9CXvueEodlvwLT+dMYtEy/AAAAAAAAAADhI3yEj/BhvwLT+dMYtEy/Ql77nhKHVb9CXvueEodVPwLT+dMYtDy/Ql77nhKHVb8AAAAAAAAAAALT+dMYtEy/AtP50xi0PD8C0/nTGLRMvwLT+dMYtDw/AtP50xi0TD8C0/nTGLQ8P0Je+54Sh1U/AtP50xi0TD8C0/nTGLRcPwLT+dMYtFw/Ql77nhKHZT/hI3yEj/BhP+EjfISP8GE/sYY8900lcD9CXvueEodlPwLT+dMYtGw/4SN8hI/wYT/ijSK4ar1zPxIrYkWsiHU/oph6uZUdaT/hI3yEj/BxP6KYermVHWk/oph6uZUdaT9CXvueEodVv+KNIrhqvXO/EitiRayIdb+iAiHtcOp6vxIrYkWsiHW/0p9gerK1fL9CyKHS7VN3v0LIodLtU3e/Qsih0u1Td79CyKHS7VN3v0LIodLtU3e/sYY8900lcL/ijSK4ar1zv+EjfISP8HG/4SN8hI/wcb+xhjz3TSVwv0Je+54Sh2W/sYY8900lcL+imHq5lR1pv7GGPPdNJXC/AtP50xi0XL9CXvueEodVv0Je+54Sh2W/AtP50xi0XL+imHq5lR1pvwLT+dMYtDy/4SN8hI/wYb+imHq5lR1pvwLT+dMYtFy/AtP50xi0XL8C0/nTGLQ8v+EjfISP8GG/AtP50xi0PL8AAAAAAAAAAAAAAAAAAAAAAtP50xi0PD8C0/nTGLQ8P+EjfISP8GE/AtP50xi0TD9CXvueEodVP0Je+54Sh1U/4SN8hI/wYT8C0/nTGLRsPwLT+dMYtFw/oph6uZUdaT/hI3yEj/BhP+EjfISP8HE/4o0iuGq9cz9CXvueEodlPwLT+dMYtEw/AtP50xi0XL/hI3yEj/BhvxIrYkWsiHW/ogIh7XDqer9CyKHS7VN3v0LIodLtU3e/4o0iuGq9c79yZeFfLx95v+KNIrhqvXO/4SN8hI/wcb/hI3yEj/Bxv+EjfISP8HG/4SN8hI/wcb9CXvueEodlv7GGPPdNJXC/AtP50xi0bL+xhjz3TSVwv+EjfISP8GG/Ql77nhKHVb+imHq5lR1pv0Je+54Sh1W/4SN8hI/wYb8AAAAAAAAAAALT+dMYtDy/4SN8hI/wYb9CXvueEodVvwLT+dMYtFy/AAAAAAAAAABCXvueEodVv0Je+54Sh1W/AAAAAAAAAAAAAAAAAAAAAALT+dMYtEw/AtP50xi0PL9CXvueEodVP0Je+54Sh1U/Ql77nhKHVT9CXvueEodVPwLT+dMYtFw/AtP50xi0bD/hI3yEj/BhP0Je+54Sh2U/4SN8hI/wYT/hI3yEj/BxP+EjfISP8HE/Ql77nhKHZT/hI3yEj/BxPwLT+dMYtGw/4o0iuGq9cz8C0/nTGLRcPwLT+dMYtFy/AtP50xi0bL9CyKHS7VN3v+KNIrhqvXO/cmXhXy8feb9CyKHS7VN3vxIrYkWsiHW/4o0iuGq9c7/hI3yEj/Bxv0LIodLtU3e/AtP50xi0bL+xhjz3TSVwvwLT+dMYtGy/sYY8900lcL8C0/nTGLRsvwLT+dMYtFy/AtP50xi0bL9CXvueEodlvwLT+dMYtGy/AtP50xi0TL8C0/nTGLRMv0Je+54Sh2W/Ql77nhKHVb9CXvueEodVvwLT+dMYtDy/Ql77nhKHVb8C0/nTGLRcv0Je+54Sh1W/AtP50xi0XL8AAAAAAAAAAALT+dMYtEy/AtP50xi0PL8AAAAAAAAAAALT+dMYtDw/AtP50xi0TD8C0/nTGLQ8vwLT+dMYtFw/Ql77nhKHVT8C0/nTGLRcPwLT+dMYtEw/4SN8hI/wYT+xhjz3TSVwPwLT+dMYtFw/oph6uZUdaT/hI3yEj/BhP+KNIrhqvXM/4SN8hI/wcT+imHq5lR1pPwLT+dMYtGw/AtP50xi0TD8C0/nTGLQ8PwLT+dMYtGy/EitiRayIdb8SK2JFrIh1v0LIodLtU3e/4SN8hI/wcb9CyKHS7VN3v+KNIrhqvXO/4o0iuGq9c7/ijSK4ar1zv+EjfISP8HG/4o0iuGq9c7+imHq5lR1pvwLT+dMYtGy/oph6uZUdab/hI3yEj/Bxv0Je+54Sh2W/Ql77nhKHVb+imHq5lR1pv+EjfISP8GG/Ql77nhKHZb8C0/nTGLQ8PwLT+dMYtDy/AtP50xi0XL9CXvueEodVvwLT+dMYtFy/AAAAAAAAAAAC0/nTGLRcv0Je+54Sh1W/AtP50xi0PL8C0/nTGLRMvwLT+dMYtDw/AtP50xi0PL8C0/nTGLRMPwLT+dMYtDw/AtP50xi0TD8C0/nTGLRcP0Je+54Sh1U/Ql77nhKHZT9CXvueEodVP0Je+54Sh2U/Ql77nhKHVT+imHq5lR1pP+EjfISP8HE/Ql77nhKHZT8C0/nTGLRsP0Je+54Sh2U/Qsih0u1Tdz/hI3yEj/BxPwLT+dMYtDw/AtP50xi0TL8C0/nTGLRsv7GGPPdNJXC/ogIh7XDqer+iAiHtcOp6v+KNIrhqvXO/Qsih0u1Td7/hI3yEj/BxvxIrYkWsiHW/AtP50xi0bL/hI3yEj/Bxv7GGPPdNJXC/4SN8hI/wcb8C0/nTGLRsv+EjfISP8GG/sYY8900lcL9CXvueEodlvwLT+dMYtGy/AtP50xi0XL8=\",\"dtype\":\"float64\",\"order\":\"little\",\"shape\":[1612]}},\"selected\":{\"id\":\"1049\"},\"selection_policy\":{\"id\":\"1048\"}},\"id\":\"1034\",\"type\":\"ColumnDataSource\"},{\"attributes\":{},\"id\":\"1044\",\"type\":\"AllLabels\"},{\"attributes\":{},\"id\":\"1008\",\"type\":\"LinearScale\"},{\"attributes\":{},\"id\":\"1021\",\"type\":\"WheelZoomTool\"},{\"attributes\":{},\"id\":\"1020\",\"type\":\"PanTool\"},{\"attributes\":{\"overlay\":{\"id\":\"1026\"}},\"id\":\"1022\",\"type\":\"BoxZoomTool\"},{\"attributes\":{},\"id\":\"1023\",\"type\":\"SaveTool\"},{\"attributes\":{},\"id\":\"1024\",\"type\":\"ResetTool\"},{\"attributes\":{},\"id\":\"1010\",\"type\":\"LinearScale\"},{\"attributes\":{\"bottom_units\":\"screen\",\"coordinates\":null,\"fill_alpha\":0.5,\"fill_color\":\"lightgrey\",\"group\":null,\"left_units\":\"screen\",\"level\":\"overlay\",\"line_alpha\":1.0,\"line_color\":\"black\",\"line_dash\":[4,4],\"line_width\":2,\"right_units\":\"screen\",\"syncable\":false,\"top_units\":\"screen\"},\"id\":\"1026\",\"type\":\"BoxAnnotation\"},{\"attributes\":{},\"id\":\"1046\",\"type\":\"BasicTickFormatter\"},{\"attributes\":{\"coordinates\":null,\"data_source\":{\"id\":\"1034\"},\"glyph\":{\"id\":\"1035\"},\"group\":null,\"hover_glyph\":null,\"muted_glyph\":{\"id\":\"1037\"},\"nonselection_glyph\":{\"id\":\"1036\"},\"view\":{\"id\":\"1039\"}},\"id\":\"1038\",\"type\":\"GlyphRenderer\"},{\"attributes\":{\"line_alpha\":0.2,\"line_color\":\"red\",\"x\":{\"field\":\"x\"},\"y\":{\"field\":\"y\"}},\"id\":\"1037\",\"type\":\"Line\"},{\"attributes\":{},\"id\":\"1013\",\"type\":\"BasicTicker\"},{\"attributes\":{\"coordinates\":null,\"formatter\":{\"id\":\"1046\"},\"group\":null,\"major_label_policy\":{\"id\":\"1047\"},\"ticker\":{\"id\":\"1013\"}},\"id\":\"1012\",\"type\":\"LinearAxis\"}],\"root_ids\":[\"1003\"]},\"title\":\"Bokeh Application\",\"version\":\"2.4.3\"}};\n  const render_items = [{\"docid\":\"16893a1d-5591-484d-b3be-87197761ec65\",\"root_ids\":[\"1003\"],\"roots\":{\"1003\":\"bda198b2-2077-4ef8-a714-9367ed20a7d2\"}}];\n  root.Bokeh.embed.embed_items_notebook(docs_json, render_items);\n  }\n  if (root.Bokeh !== undefined) {\n    embed_document(root);\n  } else {\n    let attempts = 0;\n    const timer = setInterval(function(root) {\n      if (root.Bokeh !== undefined) {\n        clearInterval(timer);\n        embed_document(root);\n      } else {\n        attempts++;\n        if (attempts > 100) {\n          clearInterval(timer);\n          console.log(\"Bokeh: ERROR: Unable to run BokehJS code because BokehJS library is missing\");\n        }\n      }\n    }, 10, root)\n  }\n})(window);",
      "application/vnd.bokehjs_exec.v0+json": ""
     },
     "metadata": {
      "application/vnd.bokehjs_exec.v0+json": {
       "id": "1003"
      }
     },
     "output_type": "display_data"
    }
   ],
   "source": [
    "from bokeh.plotting import figure, show\n",
    "from bokeh.io import output_notebook\n",
    "from bokeh.models import CrosshairTool\n",
    "\n",
    "output_notebook()\n",
    "p = figure(plot_width=800)\n",
    "\n",
    "xrange = range(len(traces[0]))\n",
    "p.line(xrange, traces[4], line_color=\"red\")\n",
    "show(p)"
   ]
  },
  {
   "cell_type": "markdown",
   "metadata": {},
   "source": [
    "**Performing AES CPA attack**"
   ]
  },
  {
   "cell_type": "code",
   "execution_count": 7,
   "metadata": {},
   "outputs": [],
   "source": [
    "import chipwhisperer.analyzer as cwa\n",
    "import chipwhisperer as cw\n",
    "project_file = \"sca_test_CW305.cwp\"\n",
    "project = cw.open_project(project_file)"
   ]
  },
  {
   "cell_type": "code",
   "execution_count": 8,
   "metadata": {},
   "outputs": [],
   "source": [
    "attack = cwa.cpa(project, cwa.leakage_models.last_round_state_diff)\n",
    "cb = cwa.get_jupyter_callback(attack)\n",
    "results = attack.run(cwa.get_jupyter_callback(attack, 10))"
   ]
  },
  {
   "cell_type": "code",
   "execution_count": 9,
   "metadata": {},
   "outputs": [],
   "source": [
    "from chipwhisperer.analyzer.attacks.models.aes.key_schedule import key_schedule_rounds\n",
    "recv_lastroundkey = [kguess[0][0] for kguess in results.find_maximums()]\n",
    "recv_key = key_schedule_rounds(recv_lastroundkey, 10, 0)\n",
    "print(\"Recovered key: \", [hex(subkey) for subkey in recv_key])\n",
    "key=list(project.keys[0])\n",
    "assert (key == recv_key), \"Failed to recover encryption key!\\nGot {}\\nExp {}\\n\".format(recv_key, key)\n",
    "print(\"Key recovery : Success!\")"
   ]
  },
  {
   "cell_type": "markdown",
   "metadata": {},
   "source": [
    "Graphical Results"
   ]
  },
  {
   "cell_type": "code",
   "execution_count": 10,
   "metadata": {},
   "outputs": [],
   "source": [
    "import holoviews as hv\n",
    "from holoviews.operation.datashader import datashade, shade, dynspread, rasterize\n",
    "from holoviews.operation import decimate\n",
    "import pandas as pd, numpy as np\n",
    "#plot_data = cwa.analyzer_plots(results)"
   ]
  },
  {
   "cell_type": "code",
   "execution_count": 11,
   "metadata": {},
   "outputs": [
    {
     "data": {
      "application/javascript": "(function(root) {\n  function now() {\n    return new Date();\n  }\n\n  var force = true;\n\n  if (typeof root._bokeh_onload_callbacks === \"undefined\" || force === true) {\n    root._bokeh_onload_callbacks = [];\n    root._bokeh_is_loading = undefined;\n  }\n\n  if (typeof (root._bokeh_timeout) === \"undefined\" || force === true) {\n    root._bokeh_timeout = Date.now() + 5000;\n    root._bokeh_failed_load = false;\n  }\n\n  function run_callbacks() {\n    try {\n      root._bokeh_onload_callbacks.forEach(function(callback) {\n        if (callback != null)\n          callback();\n      });\n    } finally {\n      delete root._bokeh_onload_callbacks\n    }\n    console.debug(\"Bokeh: all callbacks have finished\");\n  }\n\n  function load_libs(css_urls, js_urls, js_modules, callback) {\n    if (css_urls == null) css_urls = [];\n    if (js_urls == null) js_urls = [];\n    if (js_modules == null) js_modules = [];\n\n    root._bokeh_onload_callbacks.push(callback);\n    if (root._bokeh_is_loading > 0) {\n      console.debug(\"Bokeh: BokehJS is being loaded, scheduling callback at\", now());\n      return null;\n    }\n    if (js_urls.length === 0 && js_modules.length === 0) {\n      run_callbacks();\n      return null;\n    }\n    console.debug(\"Bokeh: BokehJS not loaded, scheduling load and callback at\", now());\n\n    function on_load() {\n      root._bokeh_is_loading--;\n      if (root._bokeh_is_loading === 0) {\n        console.debug(\"Bokeh: all BokehJS libraries/stylesheets loaded\");\n        run_callbacks()\n      }\n    }\n\n    function on_error() {\n      console.error(\"failed to load \" + url);\n    }\n\n    for (var i = 0; i < css_urls.length; i++) {\n      var url = css_urls[i];\n      const element = document.createElement(\"link\");\n      element.onload = on_load;\n      element.onerror = on_error;\n      element.rel = \"stylesheet\";\n      element.type = \"text/css\";\n      element.href = url;\n      console.debug(\"Bokeh: injecting link tag for BokehJS stylesheet: \", url);\n      document.body.appendChild(element);\n    }\n\n    var skip = [];\n    if (window.requirejs) {\n      window.requirejs.config({'packages': {}, 'paths': {'gridstack': 'https://cdn.jsdelivr.net/npm/gridstack@4.2.5/dist/gridstack-h5', 'notyf': 'https://cdn.jsdelivr.net/npm/notyf@3/notyf.min'}, 'shim': {'gridstack': {'exports': 'GridStack'}}});\n      require([\"gridstack\"], function(GridStack) {\n\twindow.GridStack = GridStack\n\ton_load()\n      })\n      require([\"notyf\"], function() {\n\ton_load()\n      })\n      root._bokeh_is_loading = css_urls.length + 2;\n    } else {\n      root._bokeh_is_loading = css_urls.length + js_urls.length + js_modules.length;\n    }    if (((window['GridStack'] !== undefined) && (!(window['GridStack'] instanceof HTMLElement))) || window.requirejs) {\n      var urls = ['https://cdn.holoviz.org/panel/0.14.4/dist/bundled/gridstack/gridstack@4.2.5/dist/gridstack-h5.js'];\n      for (var i = 0; i < urls.length; i++) {\n        skip.push(urls[i])\n      }\n    }    if (((window['Notyf'] !== undefined) && (!(window['Notyf'] instanceof HTMLElement))) || window.requirejs) {\n      var urls = ['https://cdn.holoviz.org/panel/0.14.4/dist/bundled/notificationarea/notyf@3/notyf.min.js'];\n      for (var i = 0; i < urls.length; i++) {\n        skip.push(urls[i])\n      }\n    }    for (var i = 0; i < js_urls.length; i++) {\n      var url = js_urls[i];\n      if (skip.indexOf(url) >= 0) {\n\tif (!window.requirejs) {\n\t  on_load();\n\t}\n\tcontinue;\n      }\n      var element = document.createElement('script');\n      element.onload = on_load;\n      element.onerror = on_error;\n      element.async = false;\n      element.src = url;\n      console.debug(\"Bokeh: injecting script tag for BokehJS library: \", url);\n      document.head.appendChild(element);\n    }\n    for (var i = 0; i < js_modules.length; i++) {\n      var url = js_modules[i];\n      if (skip.indexOf(url) >= 0) {\n\tif (!window.requirejs) {\n\t  on_load();\n\t}\n\tcontinue;\n      }\n      var element = document.createElement('script');\n      element.onload = on_load;\n      element.onerror = on_error;\n      element.async = false;\n      element.src = url;\n      element.type = \"module\";\n      console.debug(\"Bokeh: injecting script tag for BokehJS library: \", url);\n      document.head.appendChild(element);\n    }\n    if (!js_urls.length && !js_modules.length) {\n      on_load()\n    }\n  };\n\n  function inject_raw_css(css) {\n    const element = document.createElement(\"style\");\n    element.appendChild(document.createTextNode(css));\n    document.body.appendChild(element);\n  }\n\n  var js_urls = [\"https://cdn.bokeh.org/bokeh/release/bokeh-2.4.3.min.js\", \"https://cdn.bokeh.org/bokeh/release/bokeh-gl-2.4.3.min.js\", \"https://cdn.bokeh.org/bokeh/release/bokeh-widgets-2.4.3.min.js\", \"https://cdn.bokeh.org/bokeh/release/bokeh-tables-2.4.3.min.js\", \"https://cdn.bokeh.org/bokeh/release/bokeh-mathjax-2.4.3.min.js\", \"https://unpkg.com/@holoviz/panel@0.14.4/dist/panel.min.js\"];\n  var js_modules = [];\n  var css_urls = [\"https://cdn.holoviz.org/panel/0.14.4/dist/css/debugger.css\", \"https://cdn.holoviz.org/panel/0.14.4/dist/css/dataframe.css\", \"https://cdn.holoviz.org/panel/0.14.4/dist/css/alerts.css\", \"https://cdn.holoviz.org/panel/0.14.4/dist/css/markdown.css\", \"https://cdn.holoviz.org/panel/0.14.4/dist/css/card.css\", \"https://cdn.holoviz.org/panel/0.14.4/dist/css/widgets.css\", \"https://cdn.holoviz.org/panel/0.14.4/dist/css/json.css\", \"https://cdn.holoviz.org/panel/0.14.4/dist/css/loading.css\"];\n  var inline_js = [    function(Bokeh) {\n      inject_raw_css(\"\\n    .bk.pn-loading.arc:before {\\n      background-image: url(\\\"data:image/svg+xml;base64,PHN2ZyB4bWxucz0iaHR0cDovL3d3dy53My5vcmcvMjAwMC9zdmciIHN0eWxlPSJtYXJnaW46IGF1dG87IGJhY2tncm91bmQ6IG5vbmU7IGRpc3BsYXk6IGJsb2NrOyBzaGFwZS1yZW5kZXJpbmc6IGF1dG87IiB2aWV3Qm94PSIwIDAgMTAwIDEwMCIgcHJlc2VydmVBc3BlY3RSYXRpbz0ieE1pZFlNaWQiPiAgPGNpcmNsZSBjeD0iNTAiIGN5PSI1MCIgZmlsbD0ibm9uZSIgc3Ryb2tlPSIjYzNjM2MzIiBzdHJva2Utd2lkdGg9IjEwIiByPSIzNSIgc3Ryb2tlLWRhc2hhcnJheT0iMTY0LjkzMzYxNDMxMzQ2NDE1IDU2Ljk3Nzg3MTQzNzgyMTM4Ij4gICAgPGFuaW1hdGVUcmFuc2Zvcm0gYXR0cmlidXRlTmFtZT0idHJhbnNmb3JtIiB0eXBlPSJyb3RhdGUiIHJlcGVhdENvdW50PSJpbmRlZmluaXRlIiBkdXI9IjFzIiB2YWx1ZXM9IjAgNTAgNTA7MzYwIDUwIDUwIiBrZXlUaW1lcz0iMDsxIj48L2FuaW1hdGVUcmFuc2Zvcm0+ICA8L2NpcmNsZT48L3N2Zz4=\\\");\\n      background-size: auto calc(min(50%, 400px));\\n    }\\n    \");\n    },    function(Bokeh) {\n      Bokeh.set_log_level(\"info\");\n    },\nfunction(Bokeh) {} // ensure no trailing comma for IE\n  ];\n\n  function run_inline_js() {\n    if ((root.Bokeh !== undefined) || (force === true)) {\n      for (var i = 0; i < inline_js.length; i++) {\n        inline_js[i].call(root, root.Bokeh);\n      }} else if (Date.now() < root._bokeh_timeout) {\n      setTimeout(run_inline_js, 100);\n    } else if (!root._bokeh_failed_load) {\n      console.log(\"Bokeh: BokehJS failed to load within specified timeout.\");\n      root._bokeh_failed_load = true;\n    }\n  }\n\n  if (root._bokeh_is_loading === 0) {\n    console.debug(\"Bokeh: BokehJS loaded, going straight to plotting\");\n    run_inline_js();\n  } else {\n    load_libs(css_urls, js_urls, js_modules, function() {\n      console.debug(\"Bokeh: BokehJS plotting callback run at\", now());\n      run_inline_js();\n    });\n  }\n}(window));",
      "application/vnd.holoviews_load.v0+json": ""
     },
     "metadata": {},
     "output_type": "display_data"
    },
    {
     "data": {
      "application/javascript": "\nif ((window.PyViz === undefined) || (window.PyViz instanceof HTMLElement)) {\n  window.PyViz = {comms: {}, comm_status:{}, kernels:{}, receivers: {}, plot_index: []}\n}\n\n\n    function JupyterCommManager() {\n    }\n\n    JupyterCommManager.prototype.register_target = function(plot_id, comm_id, msg_handler) {\n      if (window.comm_manager || ((window.Jupyter !== undefined) && (Jupyter.notebook.kernel != null))) {\n        var comm_manager = window.comm_manager || Jupyter.notebook.kernel.comm_manager;\n        comm_manager.register_target(comm_id, function(comm) {\n          comm.on_msg(msg_handler);\n        });\n      } else if ((plot_id in window.PyViz.kernels) && (window.PyViz.kernels[plot_id])) {\n        window.PyViz.kernels[plot_id].registerCommTarget(comm_id, function(comm) {\n          comm.onMsg = msg_handler;\n        });\n      } else if (typeof google != 'undefined' && google.colab.kernel != null) {\n        google.colab.kernel.comms.registerTarget(comm_id, (comm) => {\n          var messages = comm.messages[Symbol.asyncIterator]();\n          function processIteratorResult(result) {\n            var message = result.value;\n            console.log(message)\n            var content = {data: message.data, comm_id};\n            var buffers = []\n            for (var buffer of message.buffers || []) {\n              buffers.push(new DataView(buffer))\n            }\n            var metadata = message.metadata || {};\n            var msg = {content, buffers, metadata}\n            msg_handler(msg);\n            return messages.next().then(processIteratorResult);\n          }\n          return messages.next().then(processIteratorResult);\n        })\n      }\n    }\n\n    JupyterCommManager.prototype.get_client_comm = function(plot_id, comm_id, msg_handler) {\n      if (comm_id in window.PyViz.comms) {\n        return window.PyViz.comms[comm_id];\n      } else if (window.comm_manager || ((window.Jupyter !== undefined) && (Jupyter.notebook.kernel != null))) {\n        var comm_manager = window.comm_manager || Jupyter.notebook.kernel.comm_manager;\n        var comm = comm_manager.new_comm(comm_id, {}, {}, {}, comm_id);\n        if (msg_handler) {\n          comm.on_msg(msg_handler);\n        }\n      } else if ((plot_id in window.PyViz.kernels) && (window.PyViz.kernels[plot_id])) {\n        var comm = window.PyViz.kernels[plot_id].connectToComm(comm_id);\n        comm.open();\n        if (msg_handler) {\n          comm.onMsg = msg_handler;\n        }\n      } else if (typeof google != 'undefined' && google.colab.kernel != null) {\n        var comm_promise = google.colab.kernel.comms.open(comm_id)\n        comm_promise.then((comm) => {\n          window.PyViz.comms[comm_id] = comm;\n          if (msg_handler) {\n            var messages = comm.messages[Symbol.asyncIterator]();\n            function processIteratorResult(result) {\n              var message = result.value;\n              var content = {data: message.data};\n              var metadata = message.metadata || {comm_id};\n              var msg = {content, metadata}\n              msg_handler(msg);\n              return messages.next().then(processIteratorResult);\n            }\n            return messages.next().then(processIteratorResult);\n          }\n        }) \n        var sendClosure = (data, metadata, buffers, disposeOnDone) => {\n          return comm_promise.then((comm) => {\n            comm.send(data, metadata, buffers, disposeOnDone);\n          });\n        };\n        var comm = {\n          send: sendClosure\n        };\n      }\n      window.PyViz.comms[comm_id] = comm;\n      return comm;\n    }\n    window.PyViz.comm_manager = new JupyterCommManager();\n    \n\n\nvar JS_MIME_TYPE = 'application/javascript';\nvar HTML_MIME_TYPE = 'text/html';\nvar EXEC_MIME_TYPE = 'application/vnd.holoviews_exec.v0+json';\nvar CLASS_NAME = 'output';\n\n/**\n * Render data to the DOM node\n */\nfunction render(props, node) {\n  var div = document.createElement(\"div\");\n  var script = document.createElement(\"script\");\n  node.appendChild(div);\n  node.appendChild(script);\n}\n\n/**\n * Handle when a new output is added\n */\nfunction handle_add_output(event, handle) {\n  var output_area = handle.output_area;\n  var output = handle.output;\n  if ((output.data == undefined) || (!output.data.hasOwnProperty(EXEC_MIME_TYPE))) {\n    return\n  }\n  var id = output.metadata[EXEC_MIME_TYPE][\"id\"];\n  var toinsert = output_area.element.find(\".\" + CLASS_NAME.split(' ')[0]);\n  if (id !== undefined) {\n    var nchildren = toinsert.length;\n    var html_node = toinsert[nchildren-1].children[0];\n    html_node.innerHTML = output.data[HTML_MIME_TYPE];\n    var scripts = [];\n    var nodelist = html_node.querySelectorAll(\"script\");\n    for (var i in nodelist) {\n      if (nodelist.hasOwnProperty(i)) {\n        scripts.push(nodelist[i])\n      }\n    }\n\n    scripts.forEach( function (oldScript) {\n      var newScript = document.createElement(\"script\");\n      var attrs = [];\n      var nodemap = oldScript.attributes;\n      for (var j in nodemap) {\n        if (nodemap.hasOwnProperty(j)) {\n          attrs.push(nodemap[j])\n        }\n      }\n      attrs.forEach(function(attr) { newScript.setAttribute(attr.name, attr.value) });\n      newScript.appendChild(document.createTextNode(oldScript.innerHTML));\n      oldScript.parentNode.replaceChild(newScript, oldScript);\n    });\n    if (JS_MIME_TYPE in output.data) {\n      toinsert[nchildren-1].children[1].textContent = output.data[JS_MIME_TYPE];\n    }\n    output_area._hv_plot_id = id;\n    if ((window.Bokeh !== undefined) && (id in Bokeh.index)) {\n      window.PyViz.plot_index[id] = Bokeh.index[id];\n    } else {\n      window.PyViz.plot_index[id] = null;\n    }\n  } else if (output.metadata[EXEC_MIME_TYPE][\"server_id\"] !== undefined) {\n    var bk_div = document.createElement(\"div\");\n    bk_div.innerHTML = output.data[HTML_MIME_TYPE];\n    var script_attrs = bk_div.children[0].attributes;\n    for (var i = 0; i < script_attrs.length; i++) {\n      toinsert[toinsert.length - 1].childNodes[1].setAttribute(script_attrs[i].name, script_attrs[i].value);\n    }\n    // store reference to server id on output_area\n    output_area._bokeh_server_id = output.metadata[EXEC_MIME_TYPE][\"server_id\"];\n  }\n}\n\n/**\n * Handle when an output is cleared or removed\n */\nfunction handle_clear_output(event, handle) {\n  var id = handle.cell.output_area._hv_plot_id;\n  var server_id = handle.cell.output_area._bokeh_server_id;\n  if (((id === undefined) || !(id in PyViz.plot_index)) && (server_id !== undefined)) { return; }\n  var comm = window.PyViz.comm_manager.get_client_comm(\"hv-extension-comm\", \"hv-extension-comm\", function () {});\n  if (server_id !== null) {\n    comm.send({event_type: 'server_delete', 'id': server_id});\n    return;\n  } else if (comm !== null) {\n    comm.send({event_type: 'delete', 'id': id});\n  }\n  delete PyViz.plot_index[id];\n  if ((window.Bokeh !== undefined) & (id in window.Bokeh.index)) {\n    var doc = window.Bokeh.index[id].model.document\n    doc.clear();\n    const i = window.Bokeh.documents.indexOf(doc);\n    if (i > -1) {\n      window.Bokeh.documents.splice(i, 1);\n    }\n  }\n}\n\n/**\n * Handle kernel restart event\n */\nfunction handle_kernel_cleanup(event, handle) {\n  delete PyViz.comms[\"hv-extension-comm\"];\n  window.PyViz.plot_index = {}\n}\n\n/**\n * Handle update_display_data messages\n */\nfunction handle_update_output(event, handle) {\n  handle_clear_output(event, {cell: {output_area: handle.output_area}})\n  handle_add_output(event, handle)\n}\n\nfunction register_renderer(events, OutputArea) {\n  function append_mime(data, metadata, element) {\n    // create a DOM node to render to\n    var toinsert = this.create_output_subarea(\n    metadata,\n    CLASS_NAME,\n    EXEC_MIME_TYPE\n    );\n    this.keyboard_manager.register_events(toinsert);\n    // Render to node\n    var props = {data: data, metadata: metadata[EXEC_MIME_TYPE]};\n    render(props, toinsert[0]);\n    element.append(toinsert);\n    return toinsert\n  }\n\n  events.on('output_added.OutputArea', handle_add_output);\n  events.on('output_updated.OutputArea', handle_update_output);\n  events.on('clear_output.CodeCell', handle_clear_output);\n  events.on('delete.Cell', handle_clear_output);\n  events.on('kernel_ready.Kernel', handle_kernel_cleanup);\n\n  OutputArea.prototype.register_mime_type(EXEC_MIME_TYPE, append_mime, {\n    safe: true,\n    index: 0\n  });\n}\n\nif (window.Jupyter !== undefined) {\n  try {\n    var events = require('base/js/events');\n    var OutputArea = require('notebook/js/outputarea').OutputArea;\n    if (OutputArea.prototype.mime_types().indexOf(EXEC_MIME_TYPE) == -1) {\n      register_renderer(events, OutputArea);\n    }\n  } catch(err) {\n  }\n}\n",
      "application/vnd.holoviews_load.v0+json": ""
     },
     "metadata": {},
     "output_type": "display_data"
    },
    {
     "data": {
      "text/html": [
       "<style>.bk-root, .bk-root .bk:before, .bk-root .bk:after {\n",
       "  font-family: var(--jp-ui-font-size1);\n",
       "  font-size: var(--jp-ui-font-size1);\n",
       "  color: var(--jp-ui-font-color1);\n",
       "}\n",
       "</style>"
      ]
     },
     "metadata": {},
     "output_type": "display_data"
    },
    {
     "data": {
      "text/html": [
       "\n",
       "<div class=\"logo-block\">\n",
       "<img src='data:image/png;base64,iVBORw0KGgoAAAANSUhEUgAAAEAAAABACAYAAACqaXHeAAAABHNCSVQICAgIfAhkiAAAAAlwSFlz\n",
       "AAAB+wAAAfsBxc2miwAAABl0RVh0U29mdHdhcmUAd3d3Lmlua3NjYXBlLm9yZ5vuPBoAAA6zSURB\n",
       "VHic7ZtpeFRVmsf/5966taWqUlUJ2UioBBJiIBAwCZtog9IOgjqACsogKtqirT2ttt069nQ/zDzt\n",
       "tI4+CrJIREFaFgWhBXpUNhHZQoKBkIUASchWla1S+3ar7r1nPkDaCAnZKoQP/D7mnPOe9/xy76n3\n",
       "nFSAW9ziFoPFNED2LLK5wcyBDObkb8ZkxuaoSYlI6ZcOKq1eWFdedqNzGHQBk9RMEwFAASkk0Xw3\n",
       "ETacDNi2vtvc7L0ROdw0AjoSotQVkKSvHQz/wRO1lScGModBFbDMaNRN1A4tUBCS3lk7BWhQkgpD\n",
       "lG4852/+7DWr1R3uHAZVQDsbh6ZPN7CyxUrCzJMRouusj0ipRwD2uKm0Zn5d2dFwzX1TCGhnmdGo\n",
       "G62Nna+isiUqhkzuKrkQaJlPEv5mFl2fvGg2t/VnzkEV8F5ioioOEWkLG86fvbpthynjdhXYZziQ\n",
       "x1hC9J2NFyi8vCTt91Fh04KGip0AaG9zuCk2wQCVyoNU3Hjezee9bq92duzzTmxsRJoy+jEZZZYo\n",
       "GTKJ6SJngdJqAfRzpze0+jHreUtPc7gpBLQnIYK6BYp/uGhw9YK688eu7v95ysgshcg9qSLMo3JC\n",
       "4jqLKQFBgdKDPoQ+Pltb8dUyQLpeDjeVgI6EgLIQFT5tEl3rn2losHVsexbZ3EyT9wE1uGdkIPcy\n",
       "BGxn8QUq1QrA5nqW5i2tLqvrrM9NK6AdkVIvL9E9bZL/oyfMVd/jqvc8LylzRBKDJSzIExwhQzuL\n",
       "QYGQj4rHfFTc8mUdu3E7yoLtbTe9gI4EqVgVkug2i5+uXGo919ixbRog+3fTbQ8qJe4ZOYNfMoTI\n",
       "OoshUNosgO60AisX15aeI2PSIp5KiFLI9ubb1vV3Qb2ltwLakUCDAkWX7/nHKRmmGIl9VgYsUhJm\n",
       "2NXjKYADtM1ygne9QQDIXlk49FBstMKx66D1v4+XuQr7vqTe0VcBHQlRWiOCbmmSYe2SqtL6q5rJ\n",
       "zsTb7lKx3FKOYC4DoqyS/B5bvLPxvD9Qtf6saxYLQGJErmDOdOMr/zo96km1nElr8bmPOBwI9COv\n",
       "HnFPRIwmkSOv9kcAS4heRsidOkpeWBgZM+UBrTFAXNYL5Vf2ii9c1trNzpYdaoVil3WIc+wdk+gQ\n",
       "noie3ecCcxt9ITcLAPWt/laGEO/9U6PmzZkenTtsSMQ8uYywJVW+grCstAvCIaAdArAsIWkRDDs/\n",
       "KzLm2YcjY1Lv0UdW73HabE9n6V66cxSzfEmuJssTpKGVp+0vHq73FwL46eOjpMpbRAnNmJFrGJNu\n",
       "Ukf9Yrz+3rghiumCKNXXWPhLYcjxGsIpoCMsIRoFITkW8AuyM8jC1+/QLx4bozCEJIq38+1rtpR6\n",
       "V/yzb8eBlRb3fo5l783N0CWolAzJHaVNzkrTzlEp2bQ2q3TC5gn6wpnoQAmwSiGh2GitnTmVMc5O\n",
       "UyfKWUKCIsU7+fZDKwqdT6DDpvkzAX4/+AMFjk0tDp5GRXLpQ2MUmhgDp5gxQT8+Y7hyPsMi8uxF\n",
       "71H0oebujHALECjFKaW9Lm68n18wXp2kVzIcABytD5iXFzg+WVXkegpAsOOYziqo0OkK76GyquC3\n",
       "ltZAzMhhqlSNmmWTE5T6e3IN05ITFLM4GdN0vtZ3ob8Jh1NAKXFbm5PtLU/eqTSlGjkNAJjdgn/N\n",
       "aedXa0tdi7+t9G0FIF49rtMSEgAs1kDLkTPO7ebm4IUWeyh1bKomXqlgMG6kJmHcSM0clYLJ8XtR\n",
       "1GTnbV3F6I5wCGikAb402npp1h1s7LQUZZSMIfALFOuL3UUrfnS8+rez7v9qcold5tilgHbO1fjK\n",
       "9ubb17u9oshxzMiUBKXWqJNxd+fqb0tLVs4lILFnK71H0Ind7uiPgACVcFJlrb0tV6DzxqqTIhUM\n",
       "CwDf1/rrVhTa33/3pGPxJYdQ2l2cbgVcQSosdx8uqnDtbGjh9SlDVSMNWhlnilfqZk42Th2ZpLpf\n",
       "xrHec5e815zrr0dfBZSwzkZfqsv+1FS1KUknUwPARVvItfKUY+cn57yP7qv07UE3p8B2uhUwLk09\n",
       "e0SCOrK+hbdYHYLjRIl71wWzv9jpEoeOHhGRrJAzyEyNiJuUqX0g2sBN5kGK6y2Blp5M3lsB9Qh4\n",
       "y2Ja6x6+i0ucmKgwMATwhSjdUu49tKrQ/pvN5d53ml2CGwCmJipmKjgmyuaXzNeL2a0AkQ01Th5j\n",
       "2DktO3Jyk8f9vcOBQHV94OK+fPumJmvQHxJoWkaKWq9Vs+yUsbq0zGT1I4RgeH2b5wef7+c7bl8F\n",
       "eKgoHVVZa8ZPEORzR6sT1BzDUAD/d9F78e2Tzv99v8D+fLVTqAKAsbGamKey1Mt9Ann4eH3gTXTz\n",
       "idWtAJ8PQWOk7NzSeQn/OTHDuEikVF1R4z8BQCy+6D1aWRfY0tTGG2OM8rRoPaeIj5ZHzJxszElN\n",
       "VM8K8JS5WOfv8mzRnQAKoEhmt8gyPM4lU9SmBK1MCQBnW4KONT86v1hZ1PbwSXPw4JWussVjtH9Y\n",
       "NCoiL9UoH/6PSu8jFrfY2t36erQHXLIEakMi1SydmzB31h3GGXFDFNPaK8Rme9B79Ixrd0WN+1ij\n",
       "NRQ/doRmuFLBkHSTOm5GruG+pFjFdAmorG4IXH1Qua6ASniclfFtDYt+oUjKipPrCQB7QBQ2lrgP\n",
       "fFzm+9XWUtcqJ3/5vDLDpJ79XHZk3u8nGZ42qlj1+ydtbxysCezrydp6ugmipNJ7WBPB5tydY0jP\n",
       "HaVNzs3QzeE4ZpTbI+ZbnSFPbVOw9vsfnVvqWnirPyCNGD08IlqtYkh2hjZ5dErEQzoNm+6ykyOt\n",
       "Lt5/PQEuSRRKo22VkydK+vvS1XEKlhCJAnsqvcVvH7f/ZU2R67eXbMEGAMiIV5oWZWiWvz5Fv2xG\n",
       "sjqNJQRvn3Rs2lji/lNP19VjAQDgD7FHhujZB9OGqYxRkZxixgRDVlqS6uEOFaJUVu0rPFzctrnF\n",
       "JqijImVp8dEKVWyUXDk92zAuMZ6bFwpBU1HrOw6AdhQgUooChb0+ItMbWJitSo5Ws3IAOGEOtL53\n",
       "0vHZih9sC4vtofZ7Qu6523V/fmGcds1TY3V36pUsBwAbSlxnVh2xLfAD/IAIMDf7XYIkNmXfpp2l\n",
       "18rkAJAy9HKFaIr/qULkeQQKy9zf1JgDB2uaeFNGijo5QsUyacNUUTOnGO42xSnv4oOwpDi1zYkc\n",
       "efUc3I5Gk6PhyTuVKaOGyLUAYPGIoY9Pu/atL/L92+4q9wbflRJ2Trpm/jPjdBtfnqB/dIThcl8A\n",
       "KG7hbRuKnb8qsQsVvVlTrwQAQMUlf3kwJI24Z4JhPMtcfng5GcH49GsrxJpGvvHIaeem2ma+KSjQ\n",
       "lIwUdYyCY8j4dE1KzijNnIP2llF2wcXNnsoapw9XxsgYAl6k+KzUXbi2yP3KR2ecf6z3BFsBICdW\n",
       "nvnIaG3eHybqX7vbpEqUMT+9OL4Qpe8VON7dXuFd39v19FoAABRVePbGGuXTszO0P7tu6lghUonE\n",
       "llRdrhArLvmKdh9u29jcFiRRkfLUxBiFNiqSU9icoZQHo5mYBI1MBgBH6wMNb+U7Pnw337H4gi1Y\n",
       "ciWs+uks3Z9fztUvfzxTm9Ne8XXkvQLHNytOOZeiD4e0PgkAIAYCYknKUNUDSXEKzdWNpnil7r4p\n",
       "xqkjTarZMtk/K8TQ6Qve78qqvXurGwIJqcOUKfUWHsm8KGvxSP68YudXq4pcj39X49uOK2X142O0\n",
       "Tz5/u/7TVybqH0rSya6ZBwD21/gubbrgWdDgEOx9WUhfBaC2ibcEBYm7a7x+ukrBMNcEZggyR0TE\n",
       "T8zUPjikQ4VosQZbTpS4vqizBKvqmvjsqnpfzaZyx9JPiz1/bfGKdgD45XB1zoIMzYbfTdS/NClB\n",
       "Gct0USiY3YL/g0LHy/uq/Ef6uo5+n0R/vyhp17Klpge763f8rMu6YU/zrn2nml+2WtH+Z+5IAAFc\n",
       "2bUTdTDOSNa9+cQY7YLsOIXhevEkCvzph7a8laecz/Un/z4/Ae04XeL3UQb57IwU9ZDr9UuKVajv\n",
       "nxp1+1UVIo/LjztZkKH59fO3G/JemqCfmaCRqbqbd90ZZ8FfjtkfAyD0J/9+C2h1hDwsSxvGjNDc\n",
       "b4zk5NfrSwiQblLHzZhg+Jf4aPlUwpDqkQqa9nimbt1/TDH8OitGMaQnj+RJS6B1fbF7SY1TqO5v\n",
       "/v0WAADl1f7zokgS7s7VT2DZ7pegUjBM7mjtiDZbcN4j0YrHH0rXpCtY0qPX0cVL0rv5jv/ZXend\n",
       "0u/EESYBAFBU4T4Qa5TflZOhTe7pmKpaP8kCVUVw1+yhXfJWvn1P3hnXi33JsTN6PnP3hHZ8Z3/h\n",
       "aLHzmkNPuPj7Bc/F/Q38CwjTpSwQXgE4Vmwry9tpfq/ZFgqFMy4AVDtCvi8rvMvOmv0N4YwbVgEA\n",
       "sPM72/KVnzfspmH7HQGCRLG2yL1+z8XwvPcdCbsAANh+xPzstgMtxeGKt+6MK3/tacfvwhWvIwMi\n",
       "oKEBtm0H7W+UVfkc/Y1V0BhoPlDr/w1w/eu1vjIgAgDg22OtX6/eYfnEz/focrZTHAFR+PSs56/7\n",
       "q32nwpjazxgwAQCwcU/T62t3WL7r6/jVRa6/byp1rei+Z98ZUAEAhEPHPc8fKnTU9nbgtnOe8h0l\n",
       "9hcGIqmODLQAHCy2Xti6v/XNRivf43f4fFvIteu854+VHnR7q9tfBlwAAGz+pnndB9vM26UebAe8\n",
       "SLHujPOTPVW+rwY+sxskAAC2HrA8t2Vvc7ffP1r9o+vwR2dcr92InIAbKKC1FZ5tB1tf+/G8p8sv\n",
       "N/9Q5zd/XR34LYCwV5JdccMEAMDBk45DH243r/X4xGvqxFa/GNpS7n6rwOwNWwHVE26oAADYurf1\n",
       "zx/utOzt+DMKYM0p17YtZZ5VNzqfsB2HewG1WXE8PoZ7gOclbTIvynZf9JV+fqZtfgs/8F/Nu5rB\n",
       "EIBmJ+8QRMmpU7EzGRsf2FzuePqYRbzh/zE26EwdrT10f6r6o8HOYzCJB9Dpff8tbnGLG8L/A/WE\n",
       "roTBs2RqAAAAAElFTkSuQmCC'\n",
       "     style='height:25px; border-radius:12px; display: inline-block; float: left; vertical-align: middle'></img>\n",
       "\n",
       "\n",
       "  <img src='data:image/png;base64,iVBORw0KGgoAAAANSUhEUgAAACMAAAAjCAYAAAAe2bNZAAAABHNCSVQICAgIfAhkiAAAAAlwSFlzAAAK6wAACusBgosNWgAAABx0RVh0U29mdHdhcmUAQWRvYmUgRmlyZXdvcmtzIENTNui8sowAAAf9SURBVFiFvZh7cFTVHcc/59y7793sJiFAwkvAYDRqFWwdraLVlj61diRYsDjqCFbFKrYo0CltlSq1tLaC2GprGIriGwqjFu10OlrGv8RiK/IICYECSWBDkt3s695zTv9IAtlHeOn0O7Mzu797z+/3Ob/z+p0VfBq9doNFljuABwAXw2PcvGHt6bgwxhz7Ls4YZNVXxxANLENwE2D1W9PAGmAhszZ0/X9gll5yCbHoOirLzmaQs0F6F8QMZq1v/8xgNm7DYwwjgXJLYL4witQ16+sv/U9HdDmV4WrKw6B06cZC/RMrM4MZ7xz61DAbtzEXmAvUAX4pMOVecg9/MFFu3j3Gz7gQBLygS2RGumBkL0cubiFRsR3LzVBV1UMk3IrW73PT9C2lYOwhQB4ClhX1AuKpjLcV27oEjyUpNUJCg1CvcejykWTCXyQgzic2HIIBjg3pS6+uRLKAhumZvD4U+tq0jTrgkVKQQtLekfTtxIPAkhTNF6G7kZm7aPp6M9myKVQEoaYaIhEQYvD781DML/RfBGNZXAl4irJiwBa07e/y7cQnBaJghIX6ENl2GR/fGCBoz6cm5qeyEqQA5ZYA5x5eeiV0Qph4gjFAUSwAr6QllQgcxS/Jm25Cr2Tmpsk03XI9NfI31FTZBEOgVOk51adqDBNPCNPSRlkiDXbBEwOU2WxH+I7itQZ62g56OjM33suq1YsZHVtGZSUI2QdyYgkgOthQNIF7BIGDnRAJgJSgj69cUx1gB8PkOGwL4E1gPrM27gIg7NlGKLQApc7BmEnAxP5g/rw4YqBrCDB5xHkw5rdR/1qTrN/hKNo6YUwVDNpFsnjYS8RbidBPcPXFP6R6yfExuOXmN4A3jv1+8ZUwgY9D2OWjUZE6lO88jDwHI8ZixGiMKSeYTBamCoDk6kDAb6y1OcH1a6KpD/fZesoFw5FlIXAVCIiH4PxrV+p2npVDToTBmtjY8t1swh2V61E9KqWiyuPEjM8dbfxuvfa49Zayf9R136Wr8mBSf/T7bNteA8zwaGEUbFpckWwq95n59dUIywKl2fbOIS5e8bWSu0tJ1a5redAYfqkdjesodFajcgaVNWhXo1C9SrkN3Usmv3UMJrc6/DDwkwEntkEJLe67tSLhvyzK8rHDQWleve5CGk4VZEB1r+5bg2E2si+Y0QatDK6jUVkX5eg2YYlp++ZM+rfMNYamAj8Y7MAVWFqaR1f/t2xzU4IHjybBtthzuiAASqv7jTF7jOqDMAakFHgDNsFyP+FhwZHBmH9F7cutIYkQCylYYv1AZSqsn1/+bX51OMMjPSl2nAnM7hnjOx2v53YgNWAzHM9Q/9l0lQWPSCBSyokAtOBC1Rj+w/1Xs+STDp4/E5g7Rs2zm2+oeVd7PUuHKDf6A4r5EsPT5K3gfCnBXNUYnvGzb+KcCczYYWOnLpy4eOXuG2oec0PBN8XQQAnpvS35AvAykr56rWhPBiV4MvtceGLxk5Mr6A1O8IfK7rl7xJ0r9kyumuP4fa0lMqTBLJIAJqEf1J3qE92lMBndlyfRD2YBghHC4hlny7ASqCeWo5zaoDdIWfnIefNGTb9fC73QDfhyBUCNOxrGPSUBfPem9us253YTV+3mcBbdkUYfzmHiLqZbYdIGHHON2ZlemXouaJUOO6TqtdHEQuXYY8Yt+EbDgmlS6RdzkaDTv2P9A3gICiq93sWhb5mc5wVhuU3Y7m5hOc3So7qFT3SLgOXHb/cyOfMn7xROegoC/PTcn3v8gbKPgDopJFk3R/uBPWQiwQ+2/GJevRMObLUzqe/saJjQUQTTftEVMW9tWxPgAocwcj9abNcZe7s+6t2R2xXZG7zyYLp8Q1PiRBBHym5bYuXi8Qt+/LvGu9f/5YDAxABsaRNPH6Xr4D4Sk87a897SOy9v/fKwjoF2eQel95yDESGEF6gEMwKhLwKus3wOVjTtes7qzgLdXTMnNCNoEpbcrtNuq6N7Xh/+eqcbj94xQkp7mdKpW5XbtbR8Z26kgMCAf2UU5YEovRUVRHbu2b3vK1UdDFkDCyMRQxbpdv8nhKAGIa7QaQedzT07fFPny53R738JoVYBdVrnsNx9XZ9v33UeGO+AA2MMUkgqQ5UcdDLZSFeVgONnXeHqSAC5Ew1BXwko0D1Zct3dT1duOjS3MzZnEUJtBuoQAq3SGOLR4ekjn9NC5nVOaYXf9lETrUkmOJy3pOz8OKIb2A1cWhJCCEzOxU2mUPror+2/L3yyM3pkM7jTjr1nBOgkGeyQ7erxpdJsMAS9wb2F9rzMxNY1K2PMU0WtZV82VU8Wp6vbKJVo9Lx/+4cydORdxCCQ/kDGTZCWsRpLu7VD7bfKqL8V2orKTp/PtzaXy42jr6TwAuisi+7JolUG4wY+8vyrISCMtRrLKWpvjAOqx/QGhp0rjRo5xD3x98CWQuOQN8qumRMmI7jKZPUEpzNVZsj4Zbaq1to5tZZsKIydLWojhIXrJnES79EaOzv3du2NytKuxzJKAA6wF8xqEE8s2jo/1wd/khslQGxd81Zg62Bbp31XBH+iETt7Y3ELA0iU6iGDlQ5mexe0VEx4a3x8V1AaYwFJgTiwaOsDmeK2J8nMUOqsnB1A+dcA04ucCYt0urkjmflk9iT2v30q/gZn5rQPvor4n9Ou634PeBzoznes/iot/7WnClKoM/+zCIjH5kwT8ChQjTHPIPTjFV3PpU/Hx+DM/A9U3IXI4SPCYAAAAABJRU5ErkJggg=='\n",
       "       style='height:15px; border-radius:12px; display: inline-block; float: left'></img>\n",
       "  \n",
       "\n",
       "\n",
       "\n",
       "\n",
       "</div>\n"
      ]
     },
     "metadata": {},
     "output_type": "display_data"
    },
    {
     "ename": "NameError",
     "evalue": "name 'plot_data' is not defined",
     "output_type": "error",
     "traceback": [
      "\u001b[0;31m---------------------------------------------------------------------------\u001b[0m",
      "\u001b[0;31mNameError\u001b[0m                                 Traceback (most recent call last)",
      "\u001b[1;32m/home/sca.user/chipwhisperer/jupyter/mattia_sca/sca_test.ipynb Cell 17\u001b[0m line \u001b[0;36m1\n\u001b[1;32m      <a href='vscode-notebook-cell:/home/sca.user/chipwhisperer/jupyter/mattia_sca/sca_test.ipynb#X22sZmlsZQ%3D%3D?line=7'>8</a>\u001b[0m \u001b[39m# display the calculated correlation at each point in time for the coreect key\u001b[39;00m\n\u001b[1;32m      <a href='vscode-notebook-cell:/home/sca.user/chipwhisperer/jupyter/mattia_sca/sca_test.ipynb#X22sZmlsZQ%3D%3D?line=8'>9</a>\u001b[0m \u001b[39mfor\u001b[39;00m key_byte \u001b[39min\u001b[39;00m \u001b[39mrange\u001b[39m(\u001b[39m0\u001b[39m, \u001b[39m16\u001b[39m):\n\u001b[0;32m---> <a href='vscode-notebook-cell:/home/sca.user/chipwhisperer/jupyter/mattia_sca/sca_test.ipynb#X22sZmlsZQ%3D%3D?line=9'>10</a>\u001b[0m     data \u001b[39m=\u001b[39m plot_data\u001b[39m.\u001b[39moutput_vs_time(key_byte)\n\u001b[1;32m     <a href='vscode-notebook-cell:/home/sca.user/chipwhisperer/jupyter/mattia_sca/sca_test.ipynb#X22sZmlsZQ%3D%3D?line=10'>11</a>\u001b[0m     a\u001b[39m.\u001b[39mappend(np\u001b[39m.\u001b[39marray(data[\u001b[39m1\u001b[39m]))\n\u001b[1;32m     <a href='vscode-notebook-cell:/home/sca.user/chipwhisperer/jupyter/mattia_sca/sca_test.ipynb#X22sZmlsZQ%3D%3D?line=11'>12</a>\u001b[0m     b\u001b[39m.\u001b[39mappend(np\u001b[39m.\u001b[39marray(data[\u001b[39m2\u001b[39m]))\n",
      "\u001b[0;31mNameError\u001b[0m: name 'plot_data' is not defined"
     ]
    }
   ],
   "source": [
    "\n",
    "def byte_to_color(idx):\n",
    "    return hv.Palette.colormaps['Category20'](idx/16.0)\n",
    "\n",
    "a = []\n",
    "b = []\n",
    "hv.extension('bokeh')\n",
    "\n",
    "# display the calculated correlation at each point in time for the coreect key\n",
    "for key_byte in range(0, 16):\n",
    "    data = plot_data.output_vs_time(key_byte)\n",
    "    a.append(np.array(data[1]))\n",
    "    b.append(np.array(data[2]))\n",
    "    b.append(np.array(data[3]))\n",
    "\n",
    "pda = pd.DataFrame(a).transpose().rename(str, axis='columns')\n",
    "pdb = pd.DataFrame(b).transpose().rename(str, axis='columns')   \n",
    "curve = hv.Curve(pdb['0'], \"Sample\").options(color='black')\n",
    "\n",
    "for key_byte in range(1, 16):\n",
    "    curve *= hv.Curve(pdb[str(key_byte)]).options(color=byte_to_color(key_byte))\n",
    "\n",
    "for key_byte in range(0, 16):\n",
    "    curve *= hv.Curve(pda[str(key_byte)]).options(color=byte_to_color(key_byte))\n",
    "curve.opts(width=900, height=600)\n",
    "#decimate(curve.opts(width=900, height=600)) "
   ]
  },
  {
   "cell_type": "code",
   "execution_count": null,
   "metadata": {},
   "outputs": [],
   "source": [
    "ret = plot_data.pge_vs_trace(0)\n",
    "curve = hv.Curve((ret[0], ret[1], \"Traces Used in Calculation\", \"Partial Guessing Entropy of Byte\"))\n",
    "\n",
    "for bnum in range(1,16):\n",
    "    ret = plot_data.pge_vs_trace(bnum)\n",
    "    curve *= hv.Curve((ret[0], ret[1])).opts(color=byte_to_color(bnum))\n",
    "curve.opts(width=900, height=600)"
   ]
  },
  {
   "cell_type": "code",
   "execution_count": null,
   "metadata": {},
   "outputs": [],
   "source": [
    "a = []\n",
    "b = []\n",
    "for bnum in range(0,16):\n",
    "    data = plot_data.corr_vs_trace(bnum)\n",
    "    best = [0]*len(data[1][0])\n",
    "    for i in range(256):\n",
    "        if i == key[bnum]:\n",
    "            a.append(np.array(data[1][i]))\n",
    "        else:\n",
    "            if max(best) < max(data[1][i]): best=data[1][i]  \n",
    "    b.append(np.array(best))\n",
    "pda = pd.DataFrame(a).transpose().rename(str, axis='columns')   \n",
    "pdb = pd.DataFrame(b).transpose().rename(str, axis='columns')\n",
    "curve = hv.Curve(pdb['0'].tolist(), \"Iteration Number\", \"Max Correlation\").options(color='black')\n",
    "\n",
    "for i in range(1, len(pdb.columns)):\n",
    "    curve *= hv.Curve(pdb[str(i)]).options(color=byte_to_color(i))\n",
    "\n",
    "for i in range(1, len(pda.columns)):\n",
    "    curve *= hv.Curve(pda[str(i)]).options(color=byte_to_color(i))\n",
    "\n",
    "curve.opts(width=900, height=600)   "
   ]
  },
  {
   "cell_type": "code",
   "execution_count": null,
   "metadata": {},
   "outputs": [],
   "source": [
    "#plot_data.plot_corr_vs_trace()"
   ]
  },
  {
   "cell_type": "code",
   "execution_count": null,
   "metadata": {},
   "outputs": [],
   "source": [
    "leak_model = cwa.leakage_models.sbox_output\n",
    "attack = cwa.cpa(project, leak_model)\n",
    "results = attack.run(cwa.get_jupyter_callback(attack, 10))\n",
    "recv_sboxkey = [kguess[0][0] for kguess in results.find_maximums()]\n",
    "recv_key = key_schedule_rounds(recv_sboxkey, 10, 0)\n",
    "print(\"Recovered key: \", [hex(subkey) for subkey in recv_key])\n",
    "assert (key == recv_key), \"Failed to recover encryption key!\\nGot {}\\nExp {}\\n\".format(recv_key, key)\n",
    "print(\"Key recovery : Success!\")"
   ]
  },
  {
   "cell_type": "code",
   "execution_count": null,
   "metadata": {},
   "outputs": [],
   "source": [
    "plot_data = cwa.analyzer_plots(results)\n",
    "plot_data.plot_pge_vs_trace()"
   ]
  },
  {
   "cell_type": "code",
   "execution_count": null,
   "metadata": {},
   "outputs": [],
   "source": []
  }
 ],
 "metadata": {
  "kernelspec": {
   "display_name": "cw",
   "language": "python",
   "name": "python3"
  },
  "language_info": {
   "codemirror_mode": {
    "name": "ipython",
    "version": 3
   },
   "file_extension": ".py",
   "mimetype": "text/x-python",
   "name": "python",
   "nbconvert_exporter": "python",
   "pygments_lexer": "ipython3",
   "version": "3.9.5"
  }
 },
 "nbformat": 4,
 "nbformat_minor": 2
}
